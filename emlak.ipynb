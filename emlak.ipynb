{
 "cells": [
  {
   "cell_type": "code",
   "execution_count": 50,
   "id": "887ae60b",
   "metadata": {
    "ExecuteTime": {
     "end_time": "2023-01-05T17:46:07.494459Z",
     "start_time": "2023-01-05T17:46:07.015210Z"
    },
    "execution": {
     "iopub.execute_input": "2023-01-13T07:52:57.947585Z",
     "iopub.status.busy": "2023-01-13T07:52:57.946996Z",
     "iopub.status.idle": "2023-01-13T07:52:57.953763Z",
     "shell.execute_reply": "2023-01-13T07:52:57.952423Z",
     "shell.execute_reply.started": "2023-01-13T07:52:57.947541Z"
    },
    "tags": []
   },
   "outputs": [],
   "source": [
    "from sqlalchemy import create_engine\n",
    "import pandas as pd\n",
    "import psycopg2\n",
    "import geopandas as gp"
   ]
  },
  {
   "cell_type": "code",
   "execution_count": 51,
   "id": "fcdbeb6a",
   "metadata": {
    "ExecuteTime": {
     "end_time": "2023-01-04T08:34:19.296578Z",
     "start_time": "2023-01-04T08:34:19.287171Z"
    },
    "execution": {
     "iopub.execute_input": "2023-01-13T07:52:58.447905Z",
     "iopub.status.busy": "2023-01-13T07:52:58.445303Z",
     "iopub.status.idle": "2023-01-13T07:52:58.458185Z",
     "shell.execute_reply": "2023-01-13T07:52:58.457211Z",
     "shell.execute_reply.started": "2023-01-13T07:52:58.447803Z"
    },
    "tags": []
   },
   "outputs": [],
   "source": [
    "engine = create_engine(\"\")"
   ]
  },
  {
   "cell_type": "code",
   "execution_count": 52,
   "id": "86a6198d",
   "metadata": {
    "ExecuteTime": {
     "end_time": "2023-01-04T08:34:20.449585Z",
     "start_time": "2023-01-04T08:34:19.981977Z"
    },
    "execution": {
     "iopub.execute_input": "2023-01-13T07:52:58.942132Z",
     "iopub.status.busy": "2023-01-13T07:52:58.941600Z",
     "iopub.status.idle": "2023-01-13T07:52:59.434614Z",
     "shell.execute_reply": "2023-01-13T07:52:59.434236Z",
     "shell.execute_reply.started": "2023-01-13T07:52:58.942099Z"
    },
    "tags": []
   },
   "outputs": [],
   "source": [
    "con = engine.connect()"
   ]
  },
  {
   "cell_type": "code",
   "execution_count": 53,
   "id": "ae0b0a00",
   "metadata": {
    "ExecuteTime": {
     "end_time": "2023-01-04T08:34:21.035413Z",
     "start_time": "2023-01-04T08:34:20.713530Z"
    },
    "execution": {
     "iopub.execute_input": "2023-01-13T07:52:59.820040Z",
     "iopub.status.busy": "2023-01-13T07:52:59.819759Z",
     "iopub.status.idle": "2023-01-13T07:53:00.146717Z",
     "shell.execute_reply": "2023-01-13T07:53:00.145092Z",
     "shell.execute_reply.started": "2023-01-13T07:52:59.820026Z"
    },
    "tags": []
   },
   "outputs": [
    {
     "name": "stderr",
     "output_type": "stream",
     "text": [
      "/var/folders/p1/mbkl10792jz1k5zgkw1zd_mh0000gn/T/ipykernel_16204/4162273999.py:1: SADeprecationWarning: The Engine.table_names() method is deprecated and will be removed in a future release.  Please refer to Inspector.get_table_names(). (deprecated since: 1.4)\n",
      "  engine.table_names()\n"
     ]
    },
    {
     "data": {
      "text/plain": [
       "['geom',\n",
       " 'city',\n",
       " 'district',\n",
       " 'region_city',\n",
       " 'neighbourhood',\n",
       " 'region',\n",
       " 'deed',\n",
       " 'campus',\n",
       " 'real_estate',\n",
       " 'log',\n",
       " 'type_spec',\n",
       " 'file',\n",
       " 'folder',\n",
       " 'independent_section',\n",
       " 'spatial_ref_sys']"
      ]
     },
     "execution_count": 53,
     "metadata": {},
     "output_type": "execute_result"
    }
   ],
   "source": [
    "engine.table_names()"
   ]
  },
  {
   "cell_type": "code",
   "execution_count": 4,
   "id": "549e0c98",
   "metadata": {
    "ExecuteTime": {
     "end_time": "2023-01-05T17:46:16.084889Z",
     "start_time": "2023-01-05T17:46:10.780486Z"
    },
    "execution": {
     "iopub.execute_input": "2023-01-06T06:35:53.962649Z",
     "iopub.status.busy": "2023-01-06T06:35:53.961650Z",
     "iopub.status.idle": "2023-01-06T06:35:59.380416Z",
     "shell.execute_reply": "2023-01-06T06:35:59.379960Z",
     "shell.execute_reply.started": "2023-01-06T06:35:53.962575Z"
    }
   },
   "outputs": [
    {
     "name": "stderr",
     "output_type": "stream",
     "text": [
      "/Users/aliosmanyilmaz/opt/anaconda3/lib/python3.9/site-packages/openpyxl/worksheet/_read_only.py:79: UserWarning: Web Extension extension is not supported and will be removed\n",
      "  for idx, row in parser.parse():\n"
     ]
    },
    {
     "data": {
      "text/html": [
       "<div>\n",
       "<style scoped>\n",
       "    .dataframe tbody tr th:only-of-type {\n",
       "        vertical-align: middle;\n",
       "    }\n",
       "\n",
       "    .dataframe tbody tr th {\n",
       "        vertical-align: top;\n",
       "    }\n",
       "\n",
       "    .dataframe thead th {\n",
       "        text-align: right;\n",
       "    }\n",
       "</style>\n",
       "<table border=\"1\" class=\"dataframe\">\n",
       "  <thead>\n",
       "    <tr style=\"text-align: right;\">\n",
       "      <th></th>\n",
       "      <th>LocID</th>\n",
       "      <th>User</th>\n",
       "      <th>Project</th>\n",
       "      <th>Part</th>\n",
       "      <th>Lat</th>\n",
       "      <th>Long</th>\n",
       "      <th>Start</th>\n",
       "      <th>Stop</th>\n",
       "      <th>Facility Code</th>\n",
       "      <th>Hiyerarşi</th>\n",
       "      <th>...</th>\n",
       "      <th>Sütun7</th>\n",
       "      <th>HType</th>\n",
       "      <th>LStatus</th>\n",
       "      <th>PicInfo</th>\n",
       "      <th>LastFlag</th>\n",
       "      <th>LastTS</th>\n",
       "      <th>Region</th>\n",
       "      <th>Code8</th>\n",
       "      <th>Sütun8</th>\n",
       "      <th>Sütun9</th>\n",
       "    </tr>\n",
       "  </thead>\n",
       "  <tbody>\n",
       "    <tr>\n",
       "      <th>0</th>\n",
       "      <td>20470</td>\n",
       "      <td>102</td>\n",
       "      <td>TCDD</td>\n",
       "      <td>FAZ-1</td>\n",
       "      <td>38.077677</td>\n",
       "      <td>30.208332</td>\n",
       "      <td>30/04/2021 13:41:41</td>\n",
       "      <td>30/04/2021 13:43:43</td>\n",
       "      <td>90000304</td>\n",
       "      <td>90000304</td>\n",
       "      <td>...</td>\n",
       "      <td>NaN</td>\n",
       "      <td>T-TCDD</td>\n",
       "      <td>FAAL</td>\n",
       "      <td>LO-TCDD-FAZ-1-102-20210430134141</td>\n",
       "      <td>NaN</td>\n",
       "      <td>NaN</td>\n",
       "      <td>7.BÖLGE</td>\n",
       "      <td>NaN</td>\n",
       "      <td>NaN</td>\n",
       "      <td>NaN</td>\n",
       "    </tr>\n",
       "    <tr>\n",
       "      <th>1</th>\n",
       "      <td>20471</td>\n",
       "      <td>101</td>\n",
       "      <td>TCDD</td>\n",
       "      <td>FAZ-1</td>\n",
       "      <td>38.077677</td>\n",
       "      <td>30.208332</td>\n",
       "      <td>30/04/2021 13:41:41</td>\n",
       "      <td>30/04/2021 13:47:47</td>\n",
       "      <td>90000304</td>\n",
       "      <td>90000304-90000320</td>\n",
       "      <td>...</td>\n",
       "      <td>NaN</td>\n",
       "      <td>T-TCDD</td>\n",
       "      <td>FAAL</td>\n",
       "      <td>LO-TCDD-FAZ-1-101-20210430134141</td>\n",
       "      <td>NaN</td>\n",
       "      <td>NaN</td>\n",
       "      <td>7.BÖLGE</td>\n",
       "      <td>NaN</td>\n",
       "      <td>NaN</td>\n",
       "      <td>NaN</td>\n",
       "    </tr>\n",
       "    <tr>\n",
       "      <th>2</th>\n",
       "      <td>20485</td>\n",
       "      <td>101</td>\n",
       "      <td>TCDD</td>\n",
       "      <td>FAZ-1</td>\n",
       "      <td>38.07752252</td>\n",
       "      <td>30.2082382</td>\n",
       "      <td>30/04/2021 14:40:40</td>\n",
       "      <td>30/04/2021 14:50:50</td>\n",
       "      <td>90000304</td>\n",
       "      <td>90000304-90000320-90000194</td>\n",
       "      <td>...</td>\n",
       "      <td>NaN</td>\n",
       "      <td>T-TCDD</td>\n",
       "      <td>FAAL</td>\n",
       "      <td>LO-TCDD-FAZ-1-101-20210430144040</td>\n",
       "      <td>NaN</td>\n",
       "      <td>NaN</td>\n",
       "      <td>7.BÖLGE</td>\n",
       "      <td>NaN</td>\n",
       "      <td>NaN</td>\n",
       "      <td>NaN</td>\n",
       "    </tr>\n",
       "    <tr>\n",
       "      <th>3</th>\n",
       "      <td>20488</td>\n",
       "      <td>101</td>\n",
       "      <td>TCDD</td>\n",
       "      <td>FAZ-1</td>\n",
       "      <td>38.0776306666667</td>\n",
       "      <td>30.2079466666667</td>\n",
       "      <td>30/04/2021 14:51:51</td>\n",
       "      <td>30/04/2021 14:52:52</td>\n",
       "      <td>90000304</td>\n",
       "      <td>90000304-90000320-90000194-90000188</td>\n",
       "      <td>...</td>\n",
       "      <td>NaN</td>\n",
       "      <td>T-TCDD</td>\n",
       "      <td>FAAL</td>\n",
       "      <td>LO-TCDD-FAZ-1-101-20210430145151</td>\n",
       "      <td>NaN</td>\n",
       "      <td>NaN</td>\n",
       "      <td>7.BÖLGE</td>\n",
       "      <td>NaN</td>\n",
       "      <td>NaN</td>\n",
       "      <td>NaN</td>\n",
       "    </tr>\n",
       "    <tr>\n",
       "      <th>4</th>\n",
       "      <td>20487</td>\n",
       "      <td>101</td>\n",
       "      <td>TCDD</td>\n",
       "      <td>FAZ-1</td>\n",
       "      <td>38.0776306666667</td>\n",
       "      <td>30.2079466666667</td>\n",
       "      <td>30/04/2021 14:50:50</td>\n",
       "      <td>30/04/2021 14:51:51</td>\n",
       "      <td>90000304</td>\n",
       "      <td>90000304-90000320-90000194-90000380</td>\n",
       "      <td>...</td>\n",
       "      <td>NaN</td>\n",
       "      <td>T-TCDD</td>\n",
       "      <td>FAAL</td>\n",
       "      <td>LO-TCDD-FAZ-1-101-20210430145050</td>\n",
       "      <td>NaN</td>\n",
       "      <td>NaN</td>\n",
       "      <td>7.BÖLGE</td>\n",
       "      <td>NaN</td>\n",
       "      <td>NaN</td>\n",
       "      <td>NaN</td>\n",
       "    </tr>\n",
       "  </tbody>\n",
       "</table>\n",
       "<p>5 rows × 43 columns</p>\n",
       "</div>"
      ],
      "text/plain": [
       "   LocID  User Project   Part               Lat              Long  \\\n",
       "0  20470   102    TCDD  FAZ-1         38.077677         30.208332   \n",
       "1  20471   101    TCDD  FAZ-1         38.077677         30.208332   \n",
       "2  20485   101    TCDD  FAZ-1       38.07752252        30.2082382   \n",
       "3  20488   101    TCDD  FAZ-1  38.0776306666667  30.2079466666667   \n",
       "4  20487   101    TCDD  FAZ-1  38.0776306666667  30.2079466666667   \n",
       "\n",
       "                 Start                 Stop  Facility Code  \\\n",
       "0  30/04/2021 13:41:41  30/04/2021 13:43:43       90000304   \n",
       "1  30/04/2021 13:41:41  30/04/2021 13:47:47       90000304   \n",
       "2  30/04/2021 14:40:40  30/04/2021 14:50:50       90000304   \n",
       "3  30/04/2021 14:51:51  30/04/2021 14:52:52       90000304   \n",
       "4  30/04/2021 14:50:50  30/04/2021 14:51:51       90000304   \n",
       "\n",
       "                             Hiyerarşi  ...  Sütun7   HType LStatus  \\\n",
       "0                             90000304  ...     NaN  T-TCDD    FAAL   \n",
       "1                    90000304-90000320  ...     NaN  T-TCDD    FAAL   \n",
       "2           90000304-90000320-90000194  ...     NaN  T-TCDD    FAAL   \n",
       "3  90000304-90000320-90000194-90000188  ...     NaN  T-TCDD    FAAL   \n",
       "4  90000304-90000320-90000194-90000380  ...     NaN  T-TCDD    FAAL   \n",
       "\n",
       "                            PicInfo LastFlag LastTS   Region Code8  Sütun8  \\\n",
       "0  LO-TCDD-FAZ-1-102-20210430134141      NaN    NaN  7.BÖLGE   NaN     NaN   \n",
       "1  LO-TCDD-FAZ-1-101-20210430134141      NaN    NaN  7.BÖLGE   NaN     NaN   \n",
       "2  LO-TCDD-FAZ-1-101-20210430144040      NaN    NaN  7.BÖLGE   NaN     NaN   \n",
       "3  LO-TCDD-FAZ-1-101-20210430145151      NaN    NaN  7.BÖLGE   NaN     NaN   \n",
       "4  LO-TCDD-FAZ-1-101-20210430145050      NaN    NaN  7.BÖLGE   NaN     NaN   \n",
       "\n",
       "   Sütun9  \n",
       "0     NaN  \n",
       "1     NaN  \n",
       "2     NaN  \n",
       "3     NaN  \n",
       "4     NaN  \n",
       "\n",
       "[5 rows x 43 columns]"
      ]
     },
     "execution_count": 4,
     "metadata": {},
     "output_type": "execute_result"
    }
   ],
   "source": [
    "emlakverileri = pd.read_excel(r'/Users/aliosmanyilmaz/Downloads/emlakverileri.xlsx');\n",
    "emlakverileri.head()"
   ]
  },
  {
   "cell_type": "code",
   "execution_count": 5,
   "id": "66bb9b1e-366c-460c-abca-153ada7e5534",
   "metadata": {
    "execution": {
     "iopub.execute_input": "2023-01-06T06:35:59.381504Z",
     "iopub.status.busy": "2023-01-06T06:35:59.381354Z",
     "iopub.status.idle": "2023-01-06T06:35:59.392250Z",
     "shell.execute_reply": "2023-01-06T06:35:59.390868Z",
     "shell.execute_reply.started": "2023-01-06T06:35:59.381491Z"
    },
    "tags": []
   },
   "outputs": [
    {
     "data": {
      "text/html": [
       "<div>\n",
       "<style scoped>\n",
       "    .dataframe tbody tr th:only-of-type {\n",
       "        vertical-align: middle;\n",
       "    }\n",
       "\n",
       "    .dataframe tbody tr th {\n",
       "        vertical-align: top;\n",
       "    }\n",
       "\n",
       "    .dataframe thead th {\n",
       "        text-align: right;\n",
       "    }\n",
       "</style>\n",
       "<table border=\"1\" class=\"dataframe\">\n",
       "  <thead>\n",
       "    <tr style=\"text-align: right;\">\n",
       "      <th></th>\n",
       "      <th>Name</th>\n",
       "    </tr>\n",
       "  </thead>\n",
       "  <tbody>\n",
       "    <tr>\n",
       "      <th>1</th>\n",
       "      <td>ADANA</td>\n",
       "    </tr>\n",
       "    <tr>\n",
       "      <th>2</th>\n",
       "      <td>ADIYAMAN</td>\n",
       "    </tr>\n",
       "    <tr>\n",
       "      <th>3</th>\n",
       "      <td>AFYONKARAHISAR</td>\n",
       "    </tr>\n",
       "    <tr>\n",
       "      <th>4</th>\n",
       "      <td>AGRI</td>\n",
       "    </tr>\n",
       "    <tr>\n",
       "      <th>5</th>\n",
       "      <td>AMASYA</td>\n",
       "    </tr>\n",
       "  </tbody>\n",
       "</table>\n",
       "</div>"
      ],
      "text/plain": [
       "             Name\n",
       "1           ADANA\n",
       "2        ADIYAMAN\n",
       "3  AFYONKARAHISAR\n",
       "4            AGRI\n",
       "5          AMASYA"
      ]
     },
     "execution_count": 5,
     "metadata": {},
     "output_type": "execute_result"
    }
   ],
   "source": [
    "#Şehirleri sql'e ekle\n",
    "\n",
    "cities=[\"Adana\", \"Adiyaman\", \"Afyonkarahisar\", \"Agri\", \"Amasya\", \"Ankara\", \"Antalya\", \"Artvin\", \"Aydin\", \"Balikesir\", \"Bilecik\", \"Bingol\", \"Bitlis\", \"Bolu\", \"Burdur\", \"Bursa\", \"Canakkale\", \"Cankiri\", \"Corum\", \"Denizli\", \"Diyarbakir\", \"Edirne\", \"Elazig\", \"Erzincan\", \"Erzurum\", \"Eskisehir\", \"Gaziantep\", \"Giresun\", \"Gümüshane\", \"Hakkari\", \"Hatay\", \"isparta\", \"icel (Mersin)\", \"istanbul\", \"izmir\", \"Kars\", \"Kastamonu\", \"Kayseri\", \"Kirklareli\", \"Kirsehir\", \"Kocaeli\", \"Konya\", \"Kutahya\", \"Malatya\", \"Manisa\", \"Kahramanmaras\", \"Mardin\", \"Mugla\", \"Mus\", \"Nevsehir\", \"Nigde\", \"Ordu\", \"Rize\", \"Sakarya\", \"Samsun\", \"Siirt\", \"Sinop\", \"Sivas\", \"Tekirdag\", \"Tokat\", \"Trabzon\", \"Tunceli\", \"Sanliurfa\", \"Usak\", \"Van\", \"Yozgat\", \"Zonguldak\", \"Aksaray\", \"Bayburt\", \"Karaman\", \"Kirikkale\", \"Batman\", \"Sirnak\", \"Bartin\", \"Ardahan\", \"igdir\", \"Yalova\", \"Karabuk\", \"Kilis\", \"Osmaniye\", \"Duzce\"\n",
    "]\n",
    "\n",
    "cities = {'Name': cities}\n",
    "cities = pd.DataFrame(cities)\n",
    "cities.index += 1\n",
    "cities[\"Name\"] = cities[\"Name\"].str.upper()\n",
    "cities.head()"
   ]
  },
  {
   "cell_type": "code",
   "execution_count": 312,
   "id": "1f79ce17-fc37-4611-be0e-a4765b458e15",
   "metadata": {
    "deletable": false,
    "editable": false,
    "run_control": {
     "frozen": true
    }
   },
   "outputs": [
    {
     "data": {
      "text/plain": [
       "81"
      ]
     },
     "execution_count": 312,
     "metadata": {},
     "output_type": "execute_result"
    }
   ],
   "source": [
    "cities.to_sql('city',con=engine, if_exists='append', index_label='id')"
   ]
  },
  {
   "cell_type": "code",
   "execution_count": 6,
   "id": "22330202",
   "metadata": {
    "ExecuteTime": {
     "end_time": "2023-01-04T07:07:14.906254Z",
     "start_time": "2023-01-04T07:07:14.883782Z"
    },
    "execution": {
     "iopub.execute_input": "2023-01-06T06:36:03.447006Z",
     "iopub.status.busy": "2023-01-06T06:36:03.446401Z",
     "iopub.status.idle": "2023-01-06T06:36:03.473342Z",
     "shell.execute_reply": "2023-01-06T06:36:03.472619Z",
     "shell.execute_reply.started": "2023-01-06T06:36:03.446969Z"
    }
   },
   "outputs": [
    {
     "data": {
      "text/html": [
       "<div>\n",
       "<style scoped>\n",
       "    .dataframe tbody tr th:only-of-type {\n",
       "        vertical-align: middle;\n",
       "    }\n",
       "\n",
       "    .dataframe tbody tr th {\n",
       "        vertical-align: top;\n",
       "    }\n",
       "\n",
       "    .dataframe thead th {\n",
       "        text-align: right;\n",
       "    }\n",
       "</style>\n",
       "<table border=\"1\" class=\"dataframe\">\n",
       "  <thead>\n",
       "    <tr style=\"text-align: right;\">\n",
       "      <th></th>\n",
       "      <th>name</th>\n",
       "    </tr>\n",
       "  </thead>\n",
       "  <tbody>\n",
       "    <tr>\n",
       "      <th>1</th>\n",
       "      <td>1.BÖLGE</td>\n",
       "    </tr>\n",
       "    <tr>\n",
       "      <th>2</th>\n",
       "      <td>2.BÖLGE</td>\n",
       "    </tr>\n",
       "    <tr>\n",
       "      <th>3</th>\n",
       "      <td>3.BÖLGE</td>\n",
       "    </tr>\n",
       "    <tr>\n",
       "      <th>4</th>\n",
       "      <td>4.BÖLGE</td>\n",
       "    </tr>\n",
       "    <tr>\n",
       "      <th>5</th>\n",
       "      <td>5.BÖLGE</td>\n",
       "    </tr>\n",
       "    <tr>\n",
       "      <th>6</th>\n",
       "      <td>6.BÖLGE</td>\n",
       "    </tr>\n",
       "    <tr>\n",
       "      <th>7</th>\n",
       "      <td>7.BÖLGE</td>\n",
       "    </tr>\n",
       "    <tr>\n",
       "      <th>8</th>\n",
       "      <td>8.BÖLGE (YHT)</td>\n",
       "    </tr>\n",
       "    <tr>\n",
       "      <th>9</th>\n",
       "      <td>BASKENT RAY</td>\n",
       "    </tr>\n",
       "  </tbody>\n",
       "</table>\n",
       "</div>"
      ],
      "text/plain": [
       "            name\n",
       "1        1.BÖLGE\n",
       "2        2.BÖLGE\n",
       "3        3.BÖLGE\n",
       "4        4.BÖLGE\n",
       "5        5.BÖLGE\n",
       "6        6.BÖLGE\n",
       "7        7.BÖLGE\n",
       "8  8.BÖLGE (YHT)\n",
       "9    BASKENT RAY"
      ]
     },
     "execution_count": 6,
     "metadata": {},
     "output_type": "execute_result"
    }
   ],
   "source": [
    "#Regionları ekle\n",
    "\n",
    "regions = emlakverileri[\"Region\"].unique()\n",
    "regions = {'name': regions}\n",
    "regions = pd.DataFrame(regions)\n",
    "regions.loc[len(regions.index)] = ['5.BÖLGE'] \n",
    "regions = regions.sort_values(by=['name']).dropna()\n",
    "regions.reset_index(inplace=True)\n",
    "regions = regions[[\"name\"]]\n",
    "regions.index += 1\n",
    "\n",
    "regions"
   ]
  },
  {
   "cell_type": "code",
   "execution_count": 106,
   "id": "c9fe5826",
   "metadata": {
    "ExecuteTime": {
     "end_time": "2023-01-02T13:47:59.542576Z",
     "start_time": "2023-01-02T13:47:59.369658Z"
    },
    "deletable": false,
    "editable": false,
    "run_control": {
     "frozen": true
    }
   },
   "outputs": [
    {
     "data": {
      "text/plain": [
       "9"
      ]
     },
     "execution_count": 106,
     "metadata": {},
     "output_type": "execute_result"
    }
   ],
   "source": [
    "regions.to_sql('region',con=engine, if_exists='append', index_label='id')"
   ]
  },
  {
   "cell_type": "code",
   "execution_count": 7,
   "id": "1c60def6",
   "metadata": {
    "ExecuteTime": {
     "end_time": "2023-01-03T07:47:51.422354Z",
     "start_time": "2023-01-03T07:47:51.043701Z"
    },
    "execution": {
     "iopub.execute_input": "2023-01-06T06:36:06.548724Z",
     "iopub.status.busy": "2023-01-06T06:36:06.547804Z",
     "iopub.status.idle": "2023-01-06T06:36:06.630333Z",
     "shell.execute_reply": "2023-01-06T06:36:06.629854Z",
     "shell.execute_reply.started": "2023-01-06T06:36:06.548661Z"
    }
   },
   "outputs": [],
   "source": [
    "ilceler = pd.read_excel(r'/Users/aliosmanyilmaz/Downloads/il_ilceler.xlsx',sheet_name='Ilceler');\n",
    "ilceler.index += 1"
   ]
  },
  {
   "cell_type": "code",
   "execution_count": null,
   "id": "fc833e07",
   "metadata": {
    "deletable": false,
    "editable": false,
    "run_control": {
     "frozen": true
    }
   },
   "outputs": [],
   "source": [
    "ilceler.to_sql('district',con=engine, if_exists='append', index=False)"
   ]
  },
  {
   "cell_type": "code",
   "execution_count": 8,
   "id": "7302ad35",
   "metadata": {
    "ExecuteTime": {
     "end_time": "2023-01-04T07:13:11.701271Z",
     "start_time": "2023-01-04T07:13:11.615785Z"
    },
    "execution": {
     "iopub.execute_input": "2023-01-06T06:36:11.986958Z",
     "iopub.status.busy": "2023-01-06T06:36:11.986436Z",
     "iopub.status.idle": "2023-01-06T06:36:12.068852Z",
     "shell.execute_reply": "2023-01-06T06:36:12.068079Z",
     "shell.execute_reply.started": "2023-01-06T06:36:11.986923Z"
    }
   },
   "outputs": [
    {
     "data": {
      "text/html": [
       "<div>\n",
       "<style scoped>\n",
       "    .dataframe tbody tr th:only-of-type {\n",
       "        vertical-align: middle;\n",
       "    }\n",
       "\n",
       "    .dataframe tbody tr th {\n",
       "        vertical-align: top;\n",
       "    }\n",
       "\n",
       "    .dataframe thead th {\n",
       "        text-align: right;\n",
       "    }\n",
       "</style>\n",
       "<table border=\"1\" class=\"dataframe\">\n",
       "  <thead>\n",
       "    <tr style=\"text-align: right;\">\n",
       "      <th></th>\n",
       "      <th>Name</th>\n",
       "      <th>id</th>\n",
       "    </tr>\n",
       "  </thead>\n",
       "  <tbody>\n",
       "    <tr>\n",
       "      <th>1</th>\n",
       "      <td>Seyhan</td>\n",
       "      <td>1</td>\n",
       "    </tr>\n",
       "    <tr>\n",
       "      <th>2</th>\n",
       "      <td>Ceyhan</td>\n",
       "      <td>2</td>\n",
       "    </tr>\n",
       "    <tr>\n",
       "      <th>3</th>\n",
       "      <td>Feke</td>\n",
       "      <td>3</td>\n",
       "    </tr>\n",
       "    <tr>\n",
       "      <th>4</th>\n",
       "      <td>Karaisalı</td>\n",
       "      <td>4</td>\n",
       "    </tr>\n",
       "    <tr>\n",
       "      <th>5</th>\n",
       "      <td>Karataş</td>\n",
       "      <td>5</td>\n",
       "    </tr>\n",
       "  </tbody>\n",
       "</table>\n",
       "</div>"
      ],
      "text/plain": [
       "        Name  id\n",
       "1     Seyhan   1\n",
       "2     Ceyhan   2\n",
       "3       Feke   3\n",
       "4  Karaisalı   4\n",
       "5    Karataş   5"
      ]
     },
     "execution_count": 8,
     "metadata": {},
     "output_type": "execute_result"
    }
   ],
   "source": [
    "ilceler = pd.read_excel(r'/Users/aliosmanyilmaz/Downloads/il_ilceler.xlsx',sheet_name='Ilceler');\n",
    "ilceler = ilceler[[\"Name\", \"id\"]]\n",
    "ilceler[\"Name\"] = ilceler[\"Name\"].str.strip()\n",
    "ilceler.index += 1\n",
    "ilceler.head()\n"
   ]
  },
  {
   "cell_type": "code",
   "execution_count": 9,
   "id": "b5052a5a",
   "metadata": {
    "ExecuteTime": {
     "end_time": "2023-01-04T07:12:14.449249Z",
     "start_time": "2023-01-04T07:12:11.457292Z"
    },
    "execution": {
     "iopub.execute_input": "2023-01-06T06:36:14.665830Z",
     "iopub.status.busy": "2023-01-06T06:36:14.664737Z",
     "iopub.status.idle": "2023-01-06T06:36:17.656351Z",
     "shell.execute_reply": "2023-01-06T06:36:17.655995Z",
     "shell.execute_reply.started": "2023-01-06T06:36:14.665753Z"
    }
   },
   "outputs": [
    {
     "data": {
      "text/html": [
       "<div>\n",
       "<style scoped>\n",
       "    .dataframe tbody tr th:only-of-type {\n",
       "        vertical-align: middle;\n",
       "    }\n",
       "\n",
       "    .dataframe tbody tr th {\n",
       "        vertical-align: top;\n",
       "    }\n",
       "\n",
       "    .dataframe thead th {\n",
       "        text-align: right;\n",
       "    }\n",
       "</style>\n",
       "<table border=\"1\" class=\"dataframe\">\n",
       "  <thead>\n",
       "    <tr style=\"text-align: right;\">\n",
       "      <th></th>\n",
       "      <th>name</th>\n",
       "      <th>district_id</th>\n",
       "    </tr>\n",
       "  </thead>\n",
       "  <tbody>\n",
       "    <tr>\n",
       "      <th>1</th>\n",
       "      <td>AKPINAR MAH                                   ...</td>\n",
       "      <td>12</td>\n",
       "    </tr>\n",
       "    <tr>\n",
       "      <th>2</th>\n",
       "      <td>BAŞPINAR MAH                                  ...</td>\n",
       "      <td>12</td>\n",
       "    </tr>\n",
       "    <tr>\n",
       "      <th>3</th>\n",
       "      <td>MANSURLU MAH                                  ...</td>\n",
       "      <td>12</td>\n",
       "    </tr>\n",
       "    <tr>\n",
       "      <th>4</th>\n",
       "      <td>SİNANPAŞA MAH                                 ...</td>\n",
       "      <td>12</td>\n",
       "    </tr>\n",
       "    <tr>\n",
       "      <th>5</th>\n",
       "      <td>AKÖREN MAH                                    ...</td>\n",
       "      <td>12</td>\n",
       "    </tr>\n",
       "  </tbody>\n",
       "</table>\n",
       "</div>"
      ],
      "text/plain": [
       "                                                name  district_id\n",
       "1  AKPINAR MAH                                   ...           12\n",
       "2  BAŞPINAR MAH                                  ...           12\n",
       "3  MANSURLU MAH                                  ...           12\n",
       "4  SİNANPAŞA MAH                                 ...           12\n",
       "5  AKÖREN MAH                                    ...           12"
      ]
     },
     "execution_count": 9,
     "metadata": {},
     "output_type": "execute_result"
    }
   ],
   "source": [
    "mahalle = pd.read_excel(r'/Users/aliosmanyilmaz/Downloads/mahalle.xlsx');\n",
    "mahalle.index += 1\n",
    "mahalle[\"Name\"] = mahalle[\"Name\"].str.title()\n",
    "mahalle = mahalle[[\"Name\", \"MAHALLE\"]]\n",
    "mahalle[\"Name\"] = mahalle[\"Name\"].str.strip()\n",
    "mahalle = pd.merge(mahalle,ilceler,on='Name')\n",
    "mahalle = mahalle[[\"MAHALLE\", \"id\"]]\n",
    "mahalle = mahalle.rename(columns={'MAHALLE': 'name', 'id': 'district_id'})\n",
    "mahalle.index += 1\n",
    "mahalle.head()"
   ]
  },
  {
   "cell_type": "code",
   "execution_count": 92,
   "id": "60449ed6",
   "metadata": {
    "ExecuteTime": {
     "end_time": "2023-01-03T07:48:54.739597Z",
     "start_time": "2023-01-03T07:48:50.442417Z"
    },
    "deletable": false,
    "editable": false,
    "run_control": {
     "frozen": true
    }
   },
   "outputs": [
    {
     "data": {
      "text/plain": [
       "66"
      ]
     },
     "execution_count": 92,
     "metadata": {},
     "output_type": "execute_result"
    }
   ],
   "source": [
    "mahalle.to_sql('neighbourhood',con=engine, if_exists='append', index_label='id')"
   ]
  },
  {
   "cell_type": "code",
   "execution_count": 10,
   "id": "e7f5d7c0",
   "metadata": {
    "ExecuteTime": {
     "end_time": "2023-01-05T17:46:27.719883Z",
     "start_time": "2023-01-05T17:46:27.689578Z"
    },
    "execution": {
     "iopub.execute_input": "2023-01-06T06:36:39.863245Z",
     "iopub.status.busy": "2023-01-06T06:36:39.862319Z",
     "iopub.status.idle": "2023-01-06T06:36:39.889535Z",
     "shell.execute_reply": "2023-01-06T06:36:39.888867Z",
     "shell.execute_reply.started": "2023-01-06T06:36:39.863204Z"
    }
   },
   "outputs": [
    {
     "data": {
      "text/html": [
       "<div>\n",
       "<style scoped>\n",
       "    .dataframe tbody tr th:only-of-type {\n",
       "        vertical-align: middle;\n",
       "    }\n",
       "\n",
       "    .dataframe tbody tr th {\n",
       "        vertical-align: top;\n",
       "    }\n",
       "\n",
       "    .dataframe thead th {\n",
       "        text-align: right;\n",
       "    }\n",
       "</style>\n",
       "<table border=\"1\" class=\"dataframe\">\n",
       "  <thead>\n",
       "    <tr style=\"text-align: right;\">\n",
       "      <th></th>\n",
       "      <th>city_id</th>\n",
       "      <th>Name</th>\n",
       "    </tr>\n",
       "  </thead>\n",
       "  <tbody>\n",
       "    <tr>\n",
       "      <th>0</th>\n",
       "      <td>1</td>\n",
       "      <td>ADANA</td>\n",
       "    </tr>\n",
       "    <tr>\n",
       "      <th>1</th>\n",
       "      <td>2</td>\n",
       "      <td>ADIYAMAN</td>\n",
       "    </tr>\n",
       "    <tr>\n",
       "      <th>2</th>\n",
       "      <td>3</td>\n",
       "      <td>AFYONKARAHISAR</td>\n",
       "    </tr>\n",
       "    <tr>\n",
       "      <th>3</th>\n",
       "      <td>4</td>\n",
       "      <td>AGRI</td>\n",
       "    </tr>\n",
       "    <tr>\n",
       "      <th>4</th>\n",
       "      <td>5</td>\n",
       "      <td>AMASYA</td>\n",
       "    </tr>\n",
       "    <tr>\n",
       "      <th>...</th>\n",
       "      <td>...</td>\n",
       "      <td>...</td>\n",
       "    </tr>\n",
       "    <tr>\n",
       "      <th>76</th>\n",
       "      <td>77</td>\n",
       "      <td>YALOVA</td>\n",
       "    </tr>\n",
       "    <tr>\n",
       "      <th>77</th>\n",
       "      <td>78</td>\n",
       "      <td>KARABUK</td>\n",
       "    </tr>\n",
       "    <tr>\n",
       "      <th>78</th>\n",
       "      <td>79</td>\n",
       "      <td>KILIS</td>\n",
       "    </tr>\n",
       "    <tr>\n",
       "      <th>79</th>\n",
       "      <td>80</td>\n",
       "      <td>OSMANIYE</td>\n",
       "    </tr>\n",
       "    <tr>\n",
       "      <th>80</th>\n",
       "      <td>81</td>\n",
       "      <td>DUZCE</td>\n",
       "    </tr>\n",
       "  </tbody>\n",
       "</table>\n",
       "<p>81 rows × 2 columns</p>\n",
       "</div>"
      ],
      "text/plain": [
       "    city_id            Name\n",
       "0         1           ADANA\n",
       "1         2        ADIYAMAN\n",
       "2         3  AFYONKARAHISAR\n",
       "3         4            AGRI\n",
       "4         5          AMASYA\n",
       "..      ...             ...\n",
       "76       77          YALOVA\n",
       "77       78         KARABUK\n",
       "78       79           KILIS\n",
       "79       80        OSMANIYE\n",
       "80       81           DUZCE\n",
       "\n",
       "[81 rows x 2 columns]"
      ]
     },
     "execution_count": 10,
     "metadata": {},
     "output_type": "execute_result"
    }
   ],
   "source": [
    "\n",
    "cities=[\"Adana\", \"Adiyaman\", \"Afyonkarahisar\", \"Agri\", \"Amasya\", \"Ankara\", \"Antalya\", \"Artvin\", \"Aydin\", \"Balikesir\", \"Bilecik\", \"Bingol\", \"Bitlis\", \"Bolu\", \"Burdur\", \"Bursa\", \"Canakkale\", \"Cankiri\", \"Corum\", \"Denizli\", \"Diyarbakir\", \"Edirne\", \"Elazig\", \"Erzincan\", \"Erzurum\", \"Eskisehir\", \"Gaziantep\", \"Giresun\", \"Gümüshane\", \"Hakkari\", \"Hatay\", \"isparta\", \"icel (Mersin)\", \"istanbul\", \"izmir\", \"Kars\", \"Kastamonu\", \"Kayseri\", \"Kirklareli\", \"Kirsehir\", \"Kocaeli\", \"Konya\", \"Kutahya\", \"Malatya\", \"Manisa\", \"Kahramanmaras\", \"Mardin\", \"Mugla\", \"Mus\", \"Nevsehir\", \"Nigde\", \"Ordu\", \"Rize\", \"Sakarya\", \"Samsun\", \"Siirt\", \"Sinop\", \"Sivas\", \"Tekirdag\", \"Tokat\", \"Trabzon\", \"Tunceli\", \"Sanliurfa\", \"Usak\", \"Van\", \"Yozgat\", \"Zonguldak\", \"Aksaray\", \"Bayburt\", \"Karaman\", \"Kirikkale\", \"Batman\", \"Sirnak\", \"Bartin\", \"Ardahan\", \"igdir\", \"Yalova\", \"Karabuk\", \"Kilis\", \"Osmaniye\", \"Duzce\"\n",
    "]\n",
    "\n",
    "cities = {'Name': cities}\n",
    "cities = pd.DataFrame(cities)\n",
    "cities.index += 1\n",
    "\n",
    "cities.reset_index(inplace=True)\n",
    "cities = cities.rename(columns = {'index':'city_id'})\n",
    "cities[\"Name\"] = cities[\"Name\"].str.lower().str.upper()\n",
    "cities\n"
   ]
  },
  {
   "cell_type": "code",
   "execution_count": 11,
   "id": "aa279990",
   "metadata": {
    "ExecuteTime": {
     "end_time": "2023-01-05T17:46:30.850947Z",
     "start_time": "2023-01-05T17:46:30.821668Z"
    },
    "execution": {
     "iopub.execute_input": "2023-01-06T06:36:42.960384Z",
     "iopub.status.busy": "2023-01-06T06:36:42.959690Z",
     "iopub.status.idle": "2023-01-06T06:36:42.986426Z",
     "shell.execute_reply": "2023-01-06T06:36:42.985673Z",
     "shell.execute_reply.started": "2023-01-06T06:36:42.960347Z"
    }
   },
   "outputs": [
    {
     "data": {
      "text/html": [
       "<div>\n",
       "<style scoped>\n",
       "    .dataframe tbody tr th:only-of-type {\n",
       "        vertical-align: middle;\n",
       "    }\n",
       "\n",
       "    .dataframe tbody tr th {\n",
       "        vertical-align: top;\n",
       "    }\n",
       "\n",
       "    .dataframe thead th {\n",
       "        text-align: right;\n",
       "    }\n",
       "</style>\n",
       "<table border=\"1\" class=\"dataframe\">\n",
       "  <thead>\n",
       "    <tr style=\"text-align: right;\">\n",
       "      <th></th>\n",
       "      <th>region_id</th>\n",
       "      <th>name</th>\n",
       "    </tr>\n",
       "  </thead>\n",
       "  <tbody>\n",
       "    <tr>\n",
       "      <th>0</th>\n",
       "      <td>1</td>\n",
       "      <td>1.BÖLGE</td>\n",
       "    </tr>\n",
       "    <tr>\n",
       "      <th>1</th>\n",
       "      <td>2</td>\n",
       "      <td>2.BÖLGE</td>\n",
       "    </tr>\n",
       "    <tr>\n",
       "      <th>2</th>\n",
       "      <td>3</td>\n",
       "      <td>3.BÖLGE</td>\n",
       "    </tr>\n",
       "    <tr>\n",
       "      <th>3</th>\n",
       "      <td>4</td>\n",
       "      <td>4.BÖLGE</td>\n",
       "    </tr>\n",
       "    <tr>\n",
       "      <th>4</th>\n",
       "      <td>5</td>\n",
       "      <td>5.BÖLGE</td>\n",
       "    </tr>\n",
       "    <tr>\n",
       "      <th>5</th>\n",
       "      <td>6</td>\n",
       "      <td>6.BÖLGE</td>\n",
       "    </tr>\n",
       "    <tr>\n",
       "      <th>6</th>\n",
       "      <td>7</td>\n",
       "      <td>7.BÖLGE</td>\n",
       "    </tr>\n",
       "    <tr>\n",
       "      <th>7</th>\n",
       "      <td>8</td>\n",
       "      <td>8.BÖLGE (YHT)</td>\n",
       "    </tr>\n",
       "    <tr>\n",
       "      <th>8</th>\n",
       "      <td>9</td>\n",
       "      <td>BASKENT RAY</td>\n",
       "    </tr>\n",
       "  </tbody>\n",
       "</table>\n",
       "</div>"
      ],
      "text/plain": [
       "   region_id           name\n",
       "0          1        1.BÖLGE\n",
       "1          2        2.BÖLGE\n",
       "2          3        3.BÖLGE\n",
       "3          4        4.BÖLGE\n",
       "4          5        5.BÖLGE\n",
       "5          6        6.BÖLGE\n",
       "6          7        7.BÖLGE\n",
       "7          8  8.BÖLGE (YHT)\n",
       "8          9    BASKENT RAY"
      ]
     },
     "execution_count": 11,
     "metadata": {},
     "output_type": "execute_result"
    }
   ],
   "source": [
    "regions = emlakverileri[\"Region\"].unique()\n",
    "regions = {'name': regions}\n",
    "regions = pd.DataFrame(regions)\n",
    "regions.loc[len(regions.index)] = ['5.BÖLGE'] \n",
    "regions = regions.sort_values(by=['name']).dropna()\n",
    "regions.reset_index(inplace=True)\n",
    "regions = regions[[\"name\"]]\n",
    "regions.index += 1\n",
    "regions.reset_index(inplace=True, names='region_id')\n",
    "\n",
    "regions"
   ]
  },
  {
   "cell_type": "code",
   "execution_count": 12,
   "id": "e76d7005",
   "metadata": {
    "ExecuteTime": {
     "end_time": "2023-01-05T17:52:28.941155Z",
     "start_time": "2023-01-05T17:52:28.904218Z"
    },
    "execution": {
     "iopub.execute_input": "2023-01-06T06:36:45.820557Z",
     "iopub.status.busy": "2023-01-06T06:36:45.820099Z",
     "iopub.status.idle": "2023-01-06T06:36:45.851864Z",
     "shell.execute_reply": "2023-01-06T06:36:45.851161Z",
     "shell.execute_reply.started": "2023-01-06T06:36:45.820526Z"
    }
   },
   "outputs": [
    {
     "data": {
      "text/html": [
       "<div>\n",
       "<style scoped>\n",
       "    .dataframe tbody tr th:only-of-type {\n",
       "        vertical-align: middle;\n",
       "    }\n",
       "\n",
       "    .dataframe tbody tr th {\n",
       "        vertical-align: top;\n",
       "    }\n",
       "\n",
       "    .dataframe thead th {\n",
       "        text-align: right;\n",
       "    }\n",
       "</style>\n",
       "<table border=\"1\" class=\"dataframe\">\n",
       "  <thead>\n",
       "    <tr style=\"text-align: right;\">\n",
       "      <th></th>\n",
       "      <th>city_id</th>\n",
       "      <th>region_id</th>\n",
       "    </tr>\n",
       "  </thead>\n",
       "  <tbody>\n",
       "    <tr>\n",
       "      <th>0</th>\n",
       "      <td>3</td>\n",
       "      <td>7</td>\n",
       "    </tr>\n",
       "    <tr>\n",
       "      <th>1</th>\n",
       "      <td>6</td>\n",
       "      <td>2</td>\n",
       "    </tr>\n",
       "    <tr>\n",
       "      <th>2</th>\n",
       "      <td>6</td>\n",
       "      <td>9</td>\n",
       "    </tr>\n",
       "    <tr>\n",
       "      <th>3</th>\n",
       "      <td>6</td>\n",
       "      <td>8</td>\n",
       "    </tr>\n",
       "    <tr>\n",
       "      <th>4</th>\n",
       "      <td>10</td>\n",
       "      <td>7</td>\n",
       "    </tr>\n",
       "  </tbody>\n",
       "</table>\n",
       "</div>"
      ],
      "text/plain": [
       "   city_id  region_id\n",
       "0        3          7\n",
       "1        6          2\n",
       "2        6          9\n",
       "3        6          8\n",
       "4       10          7"
      ]
     },
     "execution_count": 12,
     "metadata": {},
     "output_type": "execute_result"
    }
   ],
   "source": [
    "#region_city\n",
    "\n",
    "region_city = emlakverileri[[\"City\", \"Region\"]]\\\n",
    "              .drop_duplicates().dropna()\\\n",
    "              .reset_index()\\\n",
    "              .drop(columns=[\"index\"])\\\n",
    "              .merge(cities, left_on=\"City\", right_on=\"Name\", how=\"left\")\\\n",
    "              .merge(regions, left_on=\"Region\", right_on=\"name\", how=\"left\")\\\n",
    "              .drop(columns=[\"City\",\"Name\",\"Region\",\"name\"])\n",
    "\n",
    "region_city.head()"
   ]
  },
  {
   "cell_type": "code",
   "execution_count": 326,
   "id": "ac31b179",
   "metadata": {
    "ExecuteTime": {
     "end_time": "2023-01-02T13:37:02.544354Z",
     "start_time": "2023-01-02T13:37:02.536506Z"
    },
    "deletable": false,
    "editable": false,
    "run_control": {
     "frozen": true
    }
   },
   "outputs": [
    {
     "data": {
      "text/plain": [
       "33"
      ]
     },
     "execution_count": 326,
     "metadata": {},
     "output_type": "execute_result"
    }
   ],
   "source": [
    "region_city.to_sql('region_city',con=engine, if_exists='append', index_label='id')"
   ]
  },
  {
   "cell_type": "code",
   "execution_count": 13,
   "id": "7dd85f34",
   "metadata": {
    "ExecuteTime": {
     "end_time": "2023-01-03T07:22:06.326024Z",
     "start_time": "2023-01-03T07:22:06.303793Z"
    },
    "execution": {
     "iopub.execute_input": "2023-01-06T06:36:49.308347Z",
     "iopub.status.busy": "2023-01-06T06:36:49.308120Z",
     "iopub.status.idle": "2023-01-06T06:36:49.319312Z",
     "shell.execute_reply": "2023-01-06T06:36:49.318674Z",
     "shell.execute_reply.started": "2023-01-06T06:36:49.308330Z"
    }
   },
   "outputs": [
    {
     "data": {
      "text/html": [
       "<div>\n",
       "<style scoped>\n",
       "    .dataframe tbody tr th:only-of-type {\n",
       "        vertical-align: middle;\n",
       "    }\n",
       "\n",
       "    .dataframe tbody tr th {\n",
       "        vertical-align: top;\n",
       "    }\n",
       "\n",
       "    .dataframe thead th {\n",
       "        text-align: right;\n",
       "    }\n",
       "</style>\n",
       "<table border=\"1\" class=\"dataframe\">\n",
       "  <thead>\n",
       "    <tr style=\"text-align: right;\">\n",
       "      <th></th>\n",
       "      <th>name</th>\n",
       "    </tr>\n",
       "  </thead>\n",
       "  <tbody>\n",
       "    <tr>\n",
       "      <th>1</th>\n",
       "      <td>0IST</td>\n",
       "    </tr>\n",
       "    <tr>\n",
       "      <th>2</th>\n",
       "      <td>0BIN</td>\n",
       "    </tr>\n",
       "    <tr>\n",
       "      <th>3</th>\n",
       "      <td>KAT</td>\n",
       "    </tr>\n",
       "    <tr>\n",
       "      <th>4</th>\n",
       "      <td>OFIS</td>\n",
       "    </tr>\n",
       "    <tr>\n",
       "      <th>5</th>\n",
       "      <td>KMRLUK</td>\n",
       "    </tr>\n",
       "  </tbody>\n",
       "</table>\n",
       "</div>"
      ],
      "text/plain": [
       "     name\n",
       "1    0IST\n",
       "2    0BIN\n",
       "3     KAT\n",
       "4    OFIS\n",
       "5  KMRLUK"
      ]
     },
     "execution_count": 13,
     "metadata": {},
     "output_type": "execute_result"
    }
   ],
   "source": [
    "#Type_Spec\n",
    "typ = emlakverileri[[\"Type\"]].drop_duplicates()\n",
    "typ = typ.reset_index()\n",
    "typ = typ[[\"Type\"]]\n",
    "typ = typ.rename(columns={'Type': 'name'})\n",
    "typ.index += 1\n",
    "\n",
    "typ.head()\n"
   ]
  },
  {
   "cell_type": "code",
   "execution_count": 44,
   "id": "61eaad10",
   "metadata": {
    "ExecuteTime": {
     "end_time": "2023-01-03T07:22:13.011130Z",
     "start_time": "2023-01-03T07:22:12.802892Z"
    },
    "deletable": false,
    "editable": false,
    "run_control": {
     "frozen": true
    }
   },
   "outputs": [
    {
     "data": {
      "text/plain": [
       "144"
      ]
     },
     "execution_count": 44,
     "metadata": {},
     "output_type": "execute_result"
    }
   ],
   "source": [
    "typ.to_sql('type_spec',con=engine, if_exists='append', index_label='id')"
   ]
  },
  {
   "cell_type": "code",
   "execution_count": 57,
   "id": "d5b4e575",
   "metadata": {
    "ExecuteTime": {
     "end_time": "2023-01-05T18:04:07.423748Z",
     "start_time": "2023-01-05T18:04:02.184959Z"
    },
    "execution": {
     "iopub.execute_input": "2023-01-13T07:54:05.927114Z",
     "iopub.status.busy": "2023-01-13T07:54:05.926284Z",
     "iopub.status.idle": "2023-01-13T07:54:11.207895Z",
     "shell.execute_reply": "2023-01-13T07:54:11.207477Z",
     "shell.execute_reply.started": "2023-01-13T07:54:05.927052Z"
    },
    "tags": []
   },
   "outputs": [
    {
     "name": "stderr",
     "output_type": "stream",
     "text": [
      "/Users/aliosmanyilmaz/opt/anaconda3/lib/python3.9/site-packages/openpyxl/worksheet/_read_only.py:79: UserWarning: Web Extension extension is not supported and will be removed\n",
      "  for idx, row in parser.parse():\n"
     ]
    }
   ],
   "source": [
    "emlakverileri = pd.read_excel('emlakverileri.xlsx');"
   ]
  },
  {
   "cell_type": "code",
   "execution_count": 58,
   "id": "73dfe0c4-fff2-48f7-9299-d501f6593f0a",
   "metadata": {
    "ExecuteTime": {
     "end_time": "2023-01-05T18:10:11.394840Z",
     "start_time": "2023-01-05T18:10:11.330911Z"
    },
    "execution": {
     "iopub.execute_input": "2023-01-13T07:54:12.585565Z",
     "iopub.status.busy": "2023-01-13T07:54:12.584755Z",
     "iopub.status.idle": "2023-01-13T07:54:12.651565Z",
     "shell.execute_reply": "2023-01-13T07:54:12.651029Z",
     "shell.execute_reply.started": "2023-01-13T07:54:12.585514Z"
    },
    "tags": []
   },
   "outputs": [
    {
     "data": {
      "text/html": [
       "<div>\n",
       "<style scoped>\n",
       "    .dataframe tbody tr th:only-of-type {\n",
       "        vertical-align: middle;\n",
       "    }\n",
       "\n",
       "    .dataframe tbody tr th {\n",
       "        vertical-align: top;\n",
       "    }\n",
       "\n",
       "    .dataframe thead th {\n",
       "        text-align: right;\n",
       "    }\n",
       "</style>\n",
       "<table border=\"1\" class=\"dataframe\">\n",
       "  <thead>\n",
       "    <tr style=\"text-align: right;\">\n",
       "      <th></th>\n",
       "      <th>Region</th>\n",
       "      <th>LocName</th>\n",
       "      <th>Code</th>\n",
       "    </tr>\n",
       "  </thead>\n",
       "  <tbody>\n",
       "    <tr>\n",
       "      <th>0</th>\n",
       "      <td>7.BÖLGE</td>\n",
       "      <td>KARAKUYU TESIS</td>\n",
       "      <td>90000304</td>\n",
       "    </tr>\n",
       "    <tr>\n",
       "      <th>45</th>\n",
       "      <td>7.BÖLGE</td>\n",
       "      <td>CAPALI TREN GARI</td>\n",
       "      <td>90000367</td>\n",
       "    </tr>\n",
       "    <tr>\n",
       "      <th>58</th>\n",
       "      <td>7.BÖLGE</td>\n",
       "      <td>TINAZTEPE</td>\n",
       "      <td>90000393</td>\n",
       "    </tr>\n",
       "    <tr>\n",
       "      <th>104</th>\n",
       "      <td>7.BÖLGE</td>\n",
       "      <td>YESILHUYUK</td>\n",
       "      <td>90001060</td>\n",
       "    </tr>\n",
       "    <tr>\n",
       "      <th>112</th>\n",
       "      <td>7.BÖLGE</td>\n",
       "      <td>SUTLAC ISTASYON</td>\n",
       "      <td>90001086</td>\n",
       "    </tr>\n",
       "  </tbody>\n",
       "</table>\n",
       "</div>"
      ],
      "text/plain": [
       "      Region           LocName      Code\n",
       "0    7.BÖLGE    KARAKUYU TESIS  90000304\n",
       "45   7.BÖLGE  CAPALI TREN GARI  90000367\n",
       "58   7.BÖLGE         TINAZTEPE  90000393\n",
       "104  7.BÖLGE        YESILHUYUK  90001060\n",
       "112  7.BÖLGE   SUTLAC ISTASYON  90001086"
      ]
     },
     "execution_count": 58,
     "metadata": {},
     "output_type": "execute_result"
    }
   ],
   "source": [
    "building = emlakverileri[[\"Type\", \"Code\", \"ParentCode\", \"Region\", \"LocName\",\"Hiyerarşi\",\"City\",\"FID\",\"Ada\",\"Parsel\",\"TabanAlanı\",\"ToplamİnşaatAlanı\"]]\n",
    "building.dtypes\n",
    "\n",
    "campus = building[building[\"Hiyerarşi\"].str.len() == 8]\n",
    "real_estate = building[building[\"Hiyerarşi\"].str.len() == 17]\n",
    "independent_section = building[building[\"Hiyerarşi\"].str.len() > 17]\n",
    "\n",
    "deed = emlakverileri[[\"Ada\", \"Parsel\", \"City\", \"TabanAlanı\", \"ToplamİnşaatAlanı\", \"FID\"]]\n",
    "\n",
    "campus = campus[[\"Region\", \"LocName\", \"Code\"]]\n",
    "\n",
    "campus.head()\n",
    "\n"
   ]
  },
  {
   "cell_type": "code",
   "execution_count": 59,
   "id": "59fc04b3",
   "metadata": {
    "ExecuteTime": {
     "end_time": "2023-01-05T18:10:14.841856Z",
     "start_time": "2023-01-05T18:10:14.816111Z"
    },
    "execution": {
     "iopub.execute_input": "2023-01-13T07:54:14.773579Z",
     "iopub.status.busy": "2023-01-13T07:54:14.772647Z",
     "iopub.status.idle": "2023-01-13T07:54:14.799033Z",
     "shell.execute_reply": "2023-01-13T07:54:14.798445Z",
     "shell.execute_reply.started": "2023-01-13T07:54:14.773535Z"
    },
    "tags": []
   },
   "outputs": [
    {
     "data": {
      "text/html": [
       "<div>\n",
       "<style scoped>\n",
       "    .dataframe tbody tr th:only-of-type {\n",
       "        vertical-align: middle;\n",
       "    }\n",
       "\n",
       "    .dataframe tbody tr th {\n",
       "        vertical-align: top;\n",
       "    }\n",
       "\n",
       "    .dataframe thead th {\n",
       "        text-align: right;\n",
       "    }\n",
       "</style>\n",
       "<table border=\"1\" class=\"dataframe\">\n",
       "  <thead>\n",
       "    <tr style=\"text-align: right;\">\n",
       "      <th></th>\n",
       "      <th>city_id</th>\n",
       "      <th>Name</th>\n",
       "    </tr>\n",
       "  </thead>\n",
       "  <tbody>\n",
       "    <tr>\n",
       "      <th>0</th>\n",
       "      <td>1</td>\n",
       "      <td>ADANA</td>\n",
       "    </tr>\n",
       "    <tr>\n",
       "      <th>1</th>\n",
       "      <td>2</td>\n",
       "      <td>ADIYAMAN</td>\n",
       "    </tr>\n",
       "    <tr>\n",
       "      <th>2</th>\n",
       "      <td>3</td>\n",
       "      <td>AFYONKARAHISAR</td>\n",
       "    </tr>\n",
       "    <tr>\n",
       "      <th>3</th>\n",
       "      <td>4</td>\n",
       "      <td>AGRI</td>\n",
       "    </tr>\n",
       "    <tr>\n",
       "      <th>4</th>\n",
       "      <td>5</td>\n",
       "      <td>AMASYA</td>\n",
       "    </tr>\n",
       "  </tbody>\n",
       "</table>\n",
       "</div>"
      ],
      "text/plain": [
       "   city_id            Name\n",
       "0        1           ADANA\n",
       "1        2        ADIYAMAN\n",
       "2        3  AFYONKARAHISAR\n",
       "3        4            AGRI\n",
       "4        5          AMASYA"
      ]
     },
     "execution_count": 59,
     "metadata": {},
     "output_type": "execute_result"
    }
   ],
   "source": [
    "cities=[\"Adana\", \"Adiyaman\", \"Afyonkarahisar\", \"Agri\", \"Amasya\", \"Ankara\", \"Antalya\", \"Artvin\", \"Aydin\", \"Balikesir\", \"Bilecik\", \"Bingol\", \"Bitlis\", \"Bolu\", \"Burdur\", \"Bursa\", \"Canakkale\", \"Cankiri\", \"Corum\", \"Denizli\", \"Diyarbakir\", \"Edirne\", \"Elazig\", \"Erzincan\", \"Erzurum\", \"Eskisehir\", \"Gaziantep\", \"Giresun\", \"Gümüshane\", \"Hakkari\", \"Hatay\", \"isparta\", \"icel (Mersin)\", \"istanbul\", \"izmir\", \"Kars\", \"Kastamonu\", \"Kayseri\", \"Kirklareli\", \"Kirsehir\", \"Kocaeli\", \"Konya\", \"Kutahya\", \"Malatya\", \"Manisa\", \"Kahramanmaras\", \"Mardin\", \"Mugla\", \"Mus\", \"Nevsehir\", \"Nigde\", \"Ordu\", \"Rize\", \"Sakarya\", \"Samsun\", \"Siirt\", \"Sinop\", \"Sivas\", \"Tekirdag\", \"Tokat\", \"Trabzon\", \"Tunceli\", \"Sanliurfa\", \"Usak\", \"Van\", \"Yozgat\", \"Zonguldak\", \"Aksaray\", \"Bayburt\", \"Karaman\", \"Kirikkale\", \"Batman\", \"Sirnak\", \"Bartin\", \"Ardahan\", \"igdir\", \"Yalova\", \"Karabuk\", \"Kilis\", \"Osmaniye\", \"Duzce\"\n",
    "]\n",
    "\n",
    "cities = {'Name': cities}\n",
    "cities = pd.DataFrame(cities)\n",
    "cities.index += 1\n",
    "\n",
    "cities.reset_index(inplace=True)\n",
    "cities = cities.rename(columns = {'index':'city_id'})\n",
    "cities[\"Name\"] = cities[\"Name\"].str.lower().str.upper()\n",
    "cities.head()"
   ]
  },
  {
   "cell_type": "code",
   "execution_count": 60,
   "id": "41f3c310-973a-44db-984b-d7c5475d54ec",
   "metadata": {
    "ExecuteTime": {
     "end_time": "2023-01-05T18:22:28.894075Z",
     "start_time": "2023-01-05T18:22:28.867067Z"
    },
    "execution": {
     "iopub.execute_input": "2023-01-13T07:54:15.430587Z",
     "iopub.status.busy": "2023-01-13T07:54:15.429597Z",
     "iopub.status.idle": "2023-01-13T07:54:15.457396Z",
     "shell.execute_reply": "2023-01-13T07:54:15.456457Z",
     "shell.execute_reply.started": "2023-01-13T07:54:15.430491Z"
    },
    "tags": []
   },
   "outputs": [
    {
     "data": {
      "text/html": [
       "<div>\n",
       "<style scoped>\n",
       "    .dataframe tbody tr th:only-of-type {\n",
       "        vertical-align: middle;\n",
       "    }\n",
       "\n",
       "    .dataframe tbody tr th {\n",
       "        vertical-align: top;\n",
       "    }\n",
       "\n",
       "    .dataframe thead th {\n",
       "        text-align: right;\n",
       "    }\n",
       "</style>\n",
       "<table border=\"1\" class=\"dataframe\">\n",
       "  <thead>\n",
       "    <tr style=\"text-align: right;\">\n",
       "      <th></th>\n",
       "      <th>region_id</th>\n",
       "      <th>name</th>\n",
       "    </tr>\n",
       "  </thead>\n",
       "  <tbody>\n",
       "    <tr>\n",
       "      <th>0</th>\n",
       "      <td>1</td>\n",
       "      <td>1.BÖLGE</td>\n",
       "    </tr>\n",
       "    <tr>\n",
       "      <th>1</th>\n",
       "      <td>2</td>\n",
       "      <td>2.BÖLGE</td>\n",
       "    </tr>\n",
       "    <tr>\n",
       "      <th>2</th>\n",
       "      <td>3</td>\n",
       "      <td>3.BÖLGE</td>\n",
       "    </tr>\n",
       "    <tr>\n",
       "      <th>3</th>\n",
       "      <td>4</td>\n",
       "      <td>4.BÖLGE</td>\n",
       "    </tr>\n",
       "    <tr>\n",
       "      <th>4</th>\n",
       "      <td>5</td>\n",
       "      <td>5.BÖLGE</td>\n",
       "    </tr>\n",
       "    <tr>\n",
       "      <th>5</th>\n",
       "      <td>6</td>\n",
       "      <td>6.BÖLGE</td>\n",
       "    </tr>\n",
       "    <tr>\n",
       "      <th>6</th>\n",
       "      <td>7</td>\n",
       "      <td>7.BÖLGE</td>\n",
       "    </tr>\n",
       "    <tr>\n",
       "      <th>7</th>\n",
       "      <td>8</td>\n",
       "      <td>8.BÖLGE (YHT)</td>\n",
       "    </tr>\n",
       "    <tr>\n",
       "      <th>8</th>\n",
       "      <td>9</td>\n",
       "      <td>BASKENT RAY</td>\n",
       "    </tr>\n",
       "  </tbody>\n",
       "</table>\n",
       "</div>"
      ],
      "text/plain": [
       "   region_id           name\n",
       "0          1        1.BÖLGE\n",
       "1          2        2.BÖLGE\n",
       "2          3        3.BÖLGE\n",
       "3          4        4.BÖLGE\n",
       "4          5        5.BÖLGE\n",
       "5          6        6.BÖLGE\n",
       "6          7        7.BÖLGE\n",
       "7          8  8.BÖLGE (YHT)\n",
       "8          9    BASKENT RAY"
      ]
     },
     "execution_count": 60,
     "metadata": {},
     "output_type": "execute_result"
    }
   ],
   "source": [
    "regions = emlakverileri[\"Region\"].unique()\n",
    "regions = {'name': regions}\n",
    "regions = pd.DataFrame(regions)\n",
    "regions.loc[len(regions.index)] = ['5.BÖLGE'] \n",
    "\n",
    "regions = regions\\\n",
    "          .sort_values(by=['name'])\\\n",
    "          .dropna()\\\n",
    "          .reset_index(drop=True)\n",
    "\n",
    "regions.index += 1\n",
    "regions.reset_index(inplace=True, names='region_id')\n",
    "\n",
    "regions"
   ]
  },
  {
   "cell_type": "code",
   "execution_count": 61,
   "id": "447ccbe1-1e8e-483c-9974-43fa9ba18865",
   "metadata": {
    "ExecuteTime": {
     "end_time": "2023-01-05T18:19:15.354442Z",
     "start_time": "2023-01-05T18:19:15.333236Z"
    },
    "execution": {
     "iopub.execute_input": "2023-01-13T07:54:17.718075Z",
     "iopub.status.busy": "2023-01-13T07:54:17.717097Z",
     "iopub.status.idle": "2023-01-13T07:54:17.739722Z",
     "shell.execute_reply": "2023-01-13T07:54:17.738526Z",
     "shell.execute_reply.started": "2023-01-13T07:54:17.718022Z"
    },
    "tags": []
   },
   "outputs": [
    {
     "data": {
      "text/html": [
       "<div>\n",
       "<style scoped>\n",
       "    .dataframe tbody tr th:only-of-type {\n",
       "        vertical-align: middle;\n",
       "    }\n",
       "\n",
       "    .dataframe tbody tr th {\n",
       "        vertical-align: top;\n",
       "    }\n",
       "\n",
       "    .dataframe thead th {\n",
       "        text-align: right;\n",
       "    }\n",
       "</style>\n",
       "<table border=\"1\" class=\"dataframe\">\n",
       "  <thead>\n",
       "    <tr style=\"text-align: right;\">\n",
       "      <th></th>\n",
       "      <th>type_spec_id</th>\n",
       "      <th>name</th>\n",
       "    </tr>\n",
       "  </thead>\n",
       "  <tbody>\n",
       "    <tr>\n",
       "      <th>0</th>\n",
       "      <td>1</td>\n",
       "      <td>0IST</td>\n",
       "    </tr>\n",
       "    <tr>\n",
       "      <th>1</th>\n",
       "      <td>2</td>\n",
       "      <td>0BIN</td>\n",
       "    </tr>\n",
       "    <tr>\n",
       "      <th>2</th>\n",
       "      <td>3</td>\n",
       "      <td>KAT</td>\n",
       "    </tr>\n",
       "    <tr>\n",
       "      <th>3</th>\n",
       "      <td>4</td>\n",
       "      <td>OFIS</td>\n",
       "    </tr>\n",
       "    <tr>\n",
       "      <th>4</th>\n",
       "      <td>5</td>\n",
       "      <td>KMRLUK</td>\n",
       "    </tr>\n",
       "  </tbody>\n",
       "</table>\n",
       "</div>"
      ],
      "text/plain": [
       "   type_spec_id    name\n",
       "0             1    0IST\n",
       "1             2    0BIN\n",
       "2             3     KAT\n",
       "3             4    OFIS\n",
       "4             5  KMRLUK"
      ]
     },
     "execution_count": 61,
     "metadata": {},
     "output_type": "execute_result"
    }
   ],
   "source": [
    "#Type_Spec\n",
    "typ = emlakverileri[[\"Type\"]]\\\n",
    "      .drop_duplicates()\\\n",
    "      .reset_index(drop=True)\\\n",
    "      .rename(columns={'Type': 'name'})\n",
    "typ.index += 1\n",
    "typ.reset_index(inplace=True, names=\"type_spec_id\")\n",
    "typ.head()"
   ]
  },
  {
   "cell_type": "code",
   "execution_count": 62,
   "id": "d40e4c64",
   "metadata": {
    "ExecuteTime": {
     "end_time": "2023-01-05T18:12:25.833026Z",
     "start_time": "2023-01-05T18:12:25.795679Z"
    },
    "execution": {
     "iopub.execute_input": "2023-01-13T07:54:19.967676Z",
     "iopub.status.busy": "2023-01-13T07:54:19.967151Z",
     "iopub.status.idle": "2023-01-13T07:54:20.002404Z",
     "shell.execute_reply": "2023-01-13T07:54:20.001482Z",
     "shell.execute_reply.started": "2023-01-13T07:54:19.967640Z"
    },
    "run_control": {
     "marked": false
    },
    "tags": []
   },
   "outputs": [
    {
     "data": {
      "text/html": [
       "<div>\n",
       "<style scoped>\n",
       "    .dataframe tbody tr th:only-of-type {\n",
       "        vertical-align: middle;\n",
       "    }\n",
       "\n",
       "    .dataframe tbody tr th {\n",
       "        vertical-align: top;\n",
       "    }\n",
       "\n",
       "    .dataframe thead th {\n",
       "        text-align: right;\n",
       "    }\n",
       "</style>\n",
       "<table border=\"1\" class=\"dataframe\">\n",
       "  <thead>\n",
       "    <tr style=\"text-align: right;\">\n",
       "      <th></th>\n",
       "      <th>ada</th>\n",
       "      <th>parsel</th>\n",
       "      <th>net_area</th>\n",
       "      <th>gross_area</th>\n",
       "      <th>city_id</th>\n",
       "    </tr>\n",
       "  </thead>\n",
       "  <tbody>\n",
       "    <tr>\n",
       "      <th>1</th>\n",
       "      <td>0</td>\n",
       "      <td>430</td>\n",
       "      <td>228.0</td>\n",
       "      <td>329.0</td>\n",
       "      <td>3</td>\n",
       "    </tr>\n",
       "    <tr>\n",
       "      <th>2</th>\n",
       "      <td>0</td>\n",
       "      <td>430</td>\n",
       "      <td>34.0</td>\n",
       "      <td>34.0</td>\n",
       "      <td>3</td>\n",
       "    </tr>\n",
       "    <tr>\n",
       "      <th>3</th>\n",
       "      <td>0</td>\n",
       "      <td>430</td>\n",
       "      <td>15.0</td>\n",
       "      <td>15.0</td>\n",
       "      <td>3</td>\n",
       "    </tr>\n",
       "    <tr>\n",
       "      <th>4</th>\n",
       "      <td>0</td>\n",
       "      <td>430</td>\n",
       "      <td>18.0</td>\n",
       "      <td>18.0</td>\n",
       "      <td>3</td>\n",
       "    </tr>\n",
       "    <tr>\n",
       "      <th>5</th>\n",
       "      <td>0</td>\n",
       "      <td>430</td>\n",
       "      <td>129.0</td>\n",
       "      <td>129.0</td>\n",
       "      <td>3</td>\n",
       "    </tr>\n",
       "  </tbody>\n",
       "</table>\n",
       "</div>"
      ],
      "text/plain": [
       "   ada  parsel  net_area  gross_area  city_id\n",
       "1    0     430     228.0       329.0        3\n",
       "2    0     430      34.0        34.0        3\n",
       "3    0     430      15.0        15.0        3\n",
       "4    0     430      18.0        18.0        3\n",
       "5    0     430     129.0       129.0        3"
      ]
     },
     "execution_count": 62,
     "metadata": {},
     "output_type": "execute_result"
    }
   ],
   "source": [
    "deed_city_fid = deed[deed[\"FID\"].notna()]\\\n",
    "               .rename(columns={'Ada': 'ada','Parsel': 'parsel','TabanAlanı': 'net_area','ToplamİnşaatAlanı': 'gross_area'})\\\n",
    "               .merge(cities, left_on=\"City\", right_on=\"Name\", how=\"left\")\\\n",
    "               .astype({\"ada\": 'Int64',\"parsel\": 'Int64',\"city_id\": 'Int64', 'net_area':'float'})\\\n",
    "               .drop(['City','Name'], axis=1)\n",
    "\n",
    "deed_city = deed_city_fid.drop(\"FID\", axis=1)\n",
    "deed_city.index += 1\n",
    "deed_city.head()"
   ]
  },
  {
   "cell_type": "code",
   "execution_count": null,
   "id": "8649d42a",
   "metadata": {
    "ExecuteTime": {
     "end_time": "2023-01-04T08:51:52.983740Z",
     "start_time": "2023-01-04T08:51:52.634302Z"
    },
    "deletable": false,
    "editable": false,
    "run_control": {
     "frozen": true
    },
    "tags": []
   },
   "outputs": [],
   "source": [
    "deed_city.to_sql('deed',con=engine, if_exists='append', index_label='id')\n"
   ]
  },
  {
   "cell_type": "code",
   "execution_count": 63,
   "id": "5dcfcf6e-7ff6-42f7-87f8-bb888e81f7bf",
   "metadata": {
    "ExecuteTime": {
     "end_time": "2023-01-05T18:16:09.204642Z",
     "start_time": "2023-01-05T18:16:09.197359Z"
    },
    "execution": {
     "iopub.execute_input": "2023-01-13T07:54:22.287734Z",
     "iopub.status.busy": "2023-01-13T07:54:22.287201Z",
     "iopub.status.idle": "2023-01-13T07:54:22.325471Z",
     "shell.execute_reply": "2023-01-13T07:54:22.324865Z",
     "shell.execute_reply.started": "2023-01-13T07:54:22.287702Z"
    },
    "tags": []
   },
   "outputs": [
    {
     "data": {
      "text/html": [
       "<div>\n",
       "<style scoped>\n",
       "    .dataframe tbody tr th:only-of-type {\n",
       "        vertical-align: middle;\n",
       "    }\n",
       "\n",
       "    .dataframe tbody tr th {\n",
       "        vertical-align: top;\n",
       "    }\n",
       "\n",
       "    .dataframe thead th {\n",
       "        text-align: right;\n",
       "    }\n",
       "</style>\n",
       "<table border=\"1\" class=\"dataframe\">\n",
       "  <thead>\n",
       "    <tr style=\"text-align: right;\">\n",
       "      <th></th>\n",
       "      <th>name</th>\n",
       "      <th>region_id</th>\n",
       "    </tr>\n",
       "  </thead>\n",
       "  <tbody>\n",
       "    <tr>\n",
       "      <th>1</th>\n",
       "      <td>KARAKUYU TESIS</td>\n",
       "      <td>7</td>\n",
       "    </tr>\n",
       "    <tr>\n",
       "      <th>2</th>\n",
       "      <td>CAPALI TREN GARI</td>\n",
       "      <td>7</td>\n",
       "    </tr>\n",
       "    <tr>\n",
       "      <th>3</th>\n",
       "      <td>TINAZTEPE</td>\n",
       "      <td>7</td>\n",
       "    </tr>\n",
       "    <tr>\n",
       "      <th>4</th>\n",
       "      <td>YESILHUYUK</td>\n",
       "      <td>7</td>\n",
       "    </tr>\n",
       "    <tr>\n",
       "      <th>5</th>\n",
       "      <td>SUTLAC ISTASYON</td>\n",
       "      <td>7</td>\n",
       "    </tr>\n",
       "  </tbody>\n",
       "</table>\n",
       "</div>"
      ],
      "text/plain": [
       "               name  region_id\n",
       "1    KARAKUYU TESIS          7\n",
       "2  CAPALI TREN GARI          7\n",
       "3         TINAZTEPE          7\n",
       "4        YESILHUYUK          7\n",
       "5   SUTLAC ISTASYON          7"
      ]
     },
     "execution_count": 63,
     "metadata": {},
     "output_type": "execute_result"
    }
   ],
   "source": [
    "#Campus\n",
    "campus_region = campus.merge(regions, left_on=\"Region\", right_on=\"name\", how=\"left\")\\\n",
    "                .drop(columns=[\"Region\",\"name\"])\\\n",
    "                .rename(columns={'LocName': 'name','index': 'region_id'})\n",
    "campus_region.index += 1\n",
    "\n",
    "campus_codes = campus_region\\\n",
    "               .drop(columns=[\"name\", \"region_id\"])\\\n",
    "               .reset_index(names=\"campus_id\")\\\n",
    "               .astype({\"Code\": 'Int64'})\n",
    "    \n",
    "campus_region.drop(columns=\"Code\", inplace=True)\n",
    "campus_region.head()"
   ]
  },
  {
   "cell_type": "code",
   "execution_count": 111,
   "id": "a448dad8-6450-491b-b013-5589ab9682b8",
   "metadata": {
    "deletable": false,
    "editable": false,
    "run_control": {
     "frozen": true
    }
   },
   "outputs": [
    {
     "data": {
      "text/plain": [
       "359"
      ]
     },
     "execution_count": 111,
     "metadata": {},
     "output_type": "execute_result"
    }
   ],
   "source": [
    "campus_region.to_sql('campus',con=engine, if_exists='append', index_label='id')"
   ]
  },
  {
   "cell_type": "code",
   "execution_count": 64,
   "id": "4844195d-3b1f-4857-bb7b-a73aa54d2cc9",
   "metadata": {
    "ExecuteTime": {
     "end_time": "2023-01-05T18:17:19.584052Z",
     "start_time": "2023-01-05T18:17:19.566387Z"
    },
    "execution": {
     "iopub.execute_input": "2023-01-13T07:54:25.338251Z",
     "iopub.status.busy": "2023-01-13T07:54:25.337746Z",
     "iopub.status.idle": "2023-01-13T07:54:25.358185Z",
     "shell.execute_reply": "2023-01-13T07:54:25.356862Z",
     "shell.execute_reply.started": "2023-01-13T07:54:25.338218Z"
    },
    "tags": []
   },
   "outputs": [
    {
     "data": {
      "text/html": [
       "<div>\n",
       "<style scoped>\n",
       "    .dataframe tbody tr th:only-of-type {\n",
       "        vertical-align: middle;\n",
       "    }\n",
       "\n",
       "    .dataframe tbody tr th {\n",
       "        vertical-align: top;\n",
       "    }\n",
       "\n",
       "    .dataframe thead th {\n",
       "        text-align: right;\n",
       "    }\n",
       "</style>\n",
       "<table border=\"1\" class=\"dataframe\">\n",
       "  <thead>\n",
       "    <tr style=\"text-align: right;\">\n",
       "      <th></th>\n",
       "      <th>deed_id</th>\n",
       "      <th>FID</th>\n",
       "    </tr>\n",
       "  </thead>\n",
       "  <tbody>\n",
       "    <tr>\n",
       "      <th>0</th>\n",
       "      <td>1</td>\n",
       "      <td>bina.1321</td>\n",
       "    </tr>\n",
       "    <tr>\n",
       "      <th>1</th>\n",
       "      <td>2</td>\n",
       "      <td>bina.1324</td>\n",
       "    </tr>\n",
       "    <tr>\n",
       "      <th>2</th>\n",
       "      <td>3</td>\n",
       "      <td>bina.1308</td>\n",
       "    </tr>\n",
       "    <tr>\n",
       "      <th>3</th>\n",
       "      <td>4</td>\n",
       "      <td>bina.1316</td>\n",
       "    </tr>\n",
       "    <tr>\n",
       "      <th>4</th>\n",
       "      <td>5</td>\n",
       "      <td>bina.1323</td>\n",
       "    </tr>\n",
       "  </tbody>\n",
       "</table>\n",
       "</div>"
      ],
      "text/plain": [
       "   deed_id        FID\n",
       "0        1  bina.1321\n",
       "1        2  bina.1324\n",
       "2        3  bina.1308\n",
       "3        4  bina.1316\n",
       "4        5  bina.1323"
      ]
     },
     "execution_count": 64,
     "metadata": {},
     "output_type": "execute_result"
    }
   ],
   "source": [
    "deed_id = deed_city_fid[[\"FID\"]]\n",
    "deed_id.index += 1\n",
    "deed_id.reset_index(inplace=True, names=[\"deed_id\"])\n",
    "deed_id.head()"
   ]
  },
  {
   "cell_type": "code",
   "execution_count": 65,
   "id": "925dd0fd-47e8-4161-bc3a-e16423f1229a",
   "metadata": {
    "ExecuteTime": {
     "end_time": "2023-01-05T18:06:28.407405Z",
     "start_time": "2023-01-05T18:06:28.346099Z"
    },
    "execution": {
     "iopub.execute_input": "2023-01-13T07:54:27.451116Z",
     "iopub.status.busy": "2023-01-13T07:54:27.450615Z",
     "iopub.status.idle": "2023-01-13T07:54:27.516367Z",
     "shell.execute_reply": "2023-01-13T07:54:27.515855Z",
     "shell.execute_reply.started": "2023-01-13T07:54:27.451083Z"
    },
    "tags": []
   },
   "outputs": [
    {
     "data": {
      "text/html": [
       "<div>\n",
       "<style scoped>\n",
       "    .dataframe tbody tr th:only-of-type {\n",
       "        vertical-align: middle;\n",
       "    }\n",
       "\n",
       "    .dataframe tbody tr th {\n",
       "        vertical-align: top;\n",
       "    }\n",
       "\n",
       "    .dataframe thead th {\n",
       "        text-align: right;\n",
       "    }\n",
       "</style>\n",
       "<table border=\"1\" class=\"dataframe\">\n",
       "  <thead>\n",
       "    <tr style=\"text-align: right;\">\n",
       "      <th></th>\n",
       "      <th>ref_code</th>\n",
       "      <th>name</th>\n",
       "      <th>ada</th>\n",
       "      <th>parsel</th>\n",
       "      <th>net_area</th>\n",
       "      <th>gross_area</th>\n",
       "      <th>deed_id</th>\n",
       "      <th>city_id</th>\n",
       "      <th>type_spec_id</th>\n",
       "      <th>region_id</th>\n",
       "      <th>campus_id</th>\n",
       "    </tr>\n",
       "  </thead>\n",
       "  <tbody>\n",
       "    <tr>\n",
       "      <th>1</th>\n",
       "      <td>90000320</td>\n",
       "      <td>GAR BINASI</td>\n",
       "      <td>0</td>\n",
       "      <td>430</td>\n",
       "      <td>228.0</td>\n",
       "      <td>329.0</td>\n",
       "      <td>1</td>\n",
       "      <td>3</td>\n",
       "      <td>2</td>\n",
       "      <td>7</td>\n",
       "      <td>1</td>\n",
       "    </tr>\n",
       "    <tr>\n",
       "      <th>2</th>\n",
       "      <td>90000385</td>\n",
       "      <td>SUNDURMA</td>\n",
       "      <td>&lt;NA&gt;</td>\n",
       "      <td>&lt;NA&gt;</td>\n",
       "      <td>NaN</td>\n",
       "      <td>NaN</td>\n",
       "      <td>&lt;NA&gt;</td>\n",
       "      <td>3</td>\n",
       "      <td>11</td>\n",
       "      <td>7</td>\n",
       "      <td>1</td>\n",
       "    </tr>\n",
       "    <tr>\n",
       "      <th>3</th>\n",
       "      <td>90000398</td>\n",
       "      <td>SU KULESI</td>\n",
       "      <td>0</td>\n",
       "      <td>430</td>\n",
       "      <td>34.0</td>\n",
       "      <td>34.0</td>\n",
       "      <td>2</td>\n",
       "      <td>3</td>\n",
       "      <td>12</td>\n",
       "      <td>7</td>\n",
       "      <td>1</td>\n",
       "    </tr>\n",
       "    <tr>\n",
       "      <th>4</th>\n",
       "      <td>90000403</td>\n",
       "      <td>WC BINASI</td>\n",
       "      <td>0</td>\n",
       "      <td>430</td>\n",
       "      <td>15.0</td>\n",
       "      <td>15.0</td>\n",
       "      <td>3</td>\n",
       "      <td>3</td>\n",
       "      <td>2</td>\n",
       "      <td>7</td>\n",
       "      <td>1</td>\n",
       "    </tr>\n",
       "    <tr>\n",
       "      <th>5</th>\n",
       "      <td>90000407</td>\n",
       "      <td>TRAFO BINASI</td>\n",
       "      <td>0</td>\n",
       "      <td>430</td>\n",
       "      <td>18.0</td>\n",
       "      <td>18.0</td>\n",
       "      <td>4</td>\n",
       "      <td>3</td>\n",
       "      <td>2</td>\n",
       "      <td>7</td>\n",
       "      <td>1</td>\n",
       "    </tr>\n",
       "  </tbody>\n",
       "</table>\n",
       "</div>"
      ],
      "text/plain": [
       "   ref_code          name   ada  parsel  net_area  gross_area  deed_id  \\\n",
       "1  90000320    GAR BINASI     0     430     228.0       329.0        1   \n",
       "2  90000385      SUNDURMA  <NA>    <NA>       NaN         NaN     <NA>   \n",
       "3  90000398     SU KULESI     0     430      34.0        34.0        2   \n",
       "4  90000403     WC BINASI     0     430      15.0        15.0        3   \n",
       "5  90000407  TRAFO BINASI     0     430      18.0        18.0        4   \n",
       "\n",
       "   city_id  type_spec_id  region_id  campus_id  \n",
       "1        3             2          7          1  \n",
       "2        3            11          7          1  \n",
       "3        3            12          7          1  \n",
       "4        3             2          7          1  \n",
       "5        3             2          7          1  "
      ]
     },
     "execution_count": 65,
     "metadata": {},
     "output_type": "execute_result"
    }
   ],
   "source": [
    "#Real Estate\n",
    "\n",
    "real_estate_full = real_estate\\\n",
    "                   .astype({\"ParentCode\": 'Int64', \"Code\":'Int64', 'Ada':'Int64', 'Parsel':'Int64', 'TabanAlanı':'float'})\\\n",
    "                   .merge(deed_id, left_on=\"FID\", right_on=\"FID\", how=\"left\")\\\n",
    "                   .astype({\"deed_id\": 'Int64'})\\\n",
    "                   .drop(columns=[\"FID\"])\\\n",
    "                   .merge(cities, left_on=\"City\", right_on=\"Name\", how=\"left\")\\\n",
    "                   .drop(columns=[\"City\",\"Name\"])\\\n",
    "                   .astype({\"city_id\": 'Int64'})\\\n",
    "                   .merge(typ, left_on=\"Type\", right_on=\"name\", how=\"left\")\\\n",
    "                   .drop(columns=[\"Type\",\"name\"])\\\n",
    "                   .merge(regions, left_on=\"Region\", right_on=\"name\", how=\"left\")\\\n",
    "                   .drop(columns=[\"Region\",\"name\"])\\\n",
    "                   .astype({\"region_id\": 'Int64'})\\\n",
    "                   .rename(columns={'Code': 'ref_code', 'LocName':'name', 'Ada':'ada', \n",
    "                                    'Parsel':'parsel', 'TabanAlanı':'net_area', 'ToplamİnşaatAlanı':'gross_area',\n",
    "                                   'index':'region_id'})\\\n",
    "                   .drop(columns=[\"Hiyerarşi\"])\\\n",
    "                   .merge(campus_codes, left_on=\"ParentCode\", right_on=\"Code\", how=\"left\")\\\n",
    "                   .astype({\"campus_id\": 'Int64'})\\\n",
    "                   .drop(columns=[\"ParentCode\",\"Code\"])\n",
    "\n",
    "real_estate_full.index += 1\n",
    "\n",
    "real_estate_full.head()\n"
   ]
  },
  {
   "cell_type": "code",
   "execution_count": 80,
   "id": "d9a6bd7a-40c8-4a2e-a6ea-828702f34232",
   "metadata": {
    "execution": {
     "iopub.execute_input": "2023-01-13T08:16:58.661948Z",
     "iopub.status.busy": "2023-01-13T08:16:58.659460Z",
     "iopub.status.idle": "2023-01-13T08:16:58.885956Z",
     "shell.execute_reply": "2023-01-13T08:16:58.885501Z",
     "shell.execute_reply.started": "2023-01-13T08:16:58.661834Z"
    },
    "tags": []
   },
   "outputs": [
    {
     "data": {
      "text/html": [
       "<div>\n",
       "<style scoped>\n",
       "    .dataframe tbody tr th:only-of-type {\n",
       "        vertical-align: middle;\n",
       "    }\n",
       "\n",
       "    .dataframe tbody tr th {\n",
       "        vertical-align: top;\n",
       "    }\n",
       "\n",
       "    .dataframe thead th {\n",
       "        text-align: right;\n",
       "    }\n",
       "</style>\n",
       "<table border=\"1\" class=\"dataframe\">\n",
       "  <thead>\n",
       "    <tr style=\"text-align: right;\">\n",
       "      <th></th>\n",
       "      <th>geom</th>\n",
       "      <th>loc</th>\n",
       "    </tr>\n",
       "  </thead>\n",
       "  <tbody>\n",
       "    <tr>\n",
       "      <th>1</th>\n",
       "      <td>MULTIPOLYGON (((30.20802 38.07778, 30.20808 38...</td>\n",
       "      <td>POINT (30.20833 38.07768)</td>\n",
       "    </tr>\n",
       "    <tr>\n",
       "      <th>2</th>\n",
       "      <td>MULTIPOLYGON EMPTY</td>\n",
       "      <td>POINT (30.20816 38.07764)</td>\n",
       "    </tr>\n",
       "    <tr>\n",
       "      <th>3</th>\n",
       "      <td>MULTIPOLYGON (((30.21121 38.07778, 30.21122 38...</td>\n",
       "      <td>POINT (30.21132 38.07771)</td>\n",
       "    </tr>\n",
       "    <tr>\n",
       "      <th>4</th>\n",
       "      <td>MULTIPOLYGON (((30.20780 38.07768, 30.20780 38...</td>\n",
       "      <td>POINT (30.20786 38.07768)</td>\n",
       "    </tr>\n",
       "    <tr>\n",
       "      <th>5</th>\n",
       "      <td>MULTIPOLYGON (((30.20822 38.07789, 30.20825 38...</td>\n",
       "      <td>POINT (30.20826 38.07786)</td>\n",
       "    </tr>\n",
       "    <tr>\n",
       "      <th>...</th>\n",
       "      <td>...</td>\n",
       "      <td>...</td>\n",
       "    </tr>\n",
       "    <tr>\n",
       "      <th>3595</th>\n",
       "      <td>MULTIPOLYGON EMPTY</td>\n",
       "      <td>POINT (32.01548 41.55771)</td>\n",
       "    </tr>\n",
       "    <tr>\n",
       "      <th>3596</th>\n",
       "      <td>MULTIPOLYGON EMPTY</td>\n",
       "      <td>POINT (31.97436 41.54240)</td>\n",
       "    </tr>\n",
       "    <tr>\n",
       "      <th>3597</th>\n",
       "      <td>MULTIPOLYGON EMPTY</td>\n",
       "      <td>POINT (32.02461 41.56139)</td>\n",
       "    </tr>\n",
       "    <tr>\n",
       "      <th>3598</th>\n",
       "      <td>MULTIPOLYGON (((32.06498 41.55603, 32.06502 41...</td>\n",
       "      <td>POINT (32.06498 41.55600)</td>\n",
       "    </tr>\n",
       "    <tr>\n",
       "      <th>3599</th>\n",
       "      <td>MULTIPOLYGON EMPTY</td>\n",
       "      <td>POINT (32.06489 41.55603)</td>\n",
       "    </tr>\n",
       "  </tbody>\n",
       "</table>\n",
       "<p>3599 rows × 2 columns</p>\n",
       "</div>"
      ],
      "text/plain": [
       "                                                   geom  \\\n",
       "1     MULTIPOLYGON (((30.20802 38.07778, 30.20808 38...   \n",
       "2                                    MULTIPOLYGON EMPTY   \n",
       "3     MULTIPOLYGON (((30.21121 38.07778, 30.21122 38...   \n",
       "4     MULTIPOLYGON (((30.20780 38.07768, 30.20780 38...   \n",
       "5     MULTIPOLYGON (((30.20822 38.07789, 30.20825 38...   \n",
       "...                                                 ...   \n",
       "3595                                 MULTIPOLYGON EMPTY   \n",
       "3596                                 MULTIPOLYGON EMPTY   \n",
       "3597                                 MULTIPOLYGON EMPTY   \n",
       "3598  MULTIPOLYGON (((32.06498 41.55603, 32.06502 41...   \n",
       "3599                                 MULTIPOLYGON EMPTY   \n",
       "\n",
       "                            loc  \n",
       "1     POINT (30.20833 38.07768)  \n",
       "2     POINT (30.20816 38.07764)  \n",
       "3     POINT (30.21132 38.07771)  \n",
       "4     POINT (30.20786 38.07768)  \n",
       "5     POINT (30.20826 38.07786)  \n",
       "...                         ...  \n",
       "3595  POINT (32.01548 41.55771)  \n",
       "3596  POINT (31.97436 41.54240)  \n",
       "3597  POINT (32.02461 41.56139)  \n",
       "3598  POINT (32.06498 41.55600)  \n",
       "3599  POINT (32.06489 41.55603)  \n",
       "\n",
       "[3599 rows x 2 columns]"
      ]
     },
     "execution_count": 80,
     "metadata": {},
     "output_type": "execute_result"
    }
   ],
   "source": [
    "from shapely import wkt\n",
    "\n",
    "\n",
    "ev = emlakverileri[['Code','geom','Lat','Long']]\n",
    "\n",
    "geom = ev[ev.Code.isin(real_estate_full.ref_code)]\n",
    "geom = geom[geom.Lat.notna() | geom.Long.notna() | geom.geom.notna()]\n",
    "\n",
    "geom.reset_index(inplace=True, drop=True)\n",
    "geom.index += 1\n",
    "geom.reset_index(inplace=True, names='geom_id')\n",
    "geom.index += 1\n",
    "real_estate_geo = real_estate_full\\\n",
    "                  .merge(geom, left_on='ref_code', right_on='Code', how='left')\\\n",
    "                  .drop(columns=['Code','geom','Lat','Long'])\\\n",
    "                  .astype({'geom_id':'Int64'})\n",
    "\n",
    "real_estate_geo.index += 1\n",
    "real_estate_geo\n",
    "\n",
    "geom.loc[geom.geom.isna(), 'geom'] = 'MULTIPOLYGON EMPTY'\n",
    "geom['geom'] = geom['geom'].apply(wkt.loads)\n",
    "geom = gp.GeoDataFrame(geom, geometry='geom')\n",
    "geom = geom.set_crs('epsg:4326').rename(columns={'Lat': 'lat','Long': 'long'})\n",
    "geom[['lat','long']] = geom[['lat','long']].apply(lambda x: x.str.replace(',','.')).astype({'lat':'float64','long':'float64'})                                                                                  \n",
    "geom['loc'] = gp.points_from_xy(new_geom.long, new_geom.lat)\n",
    "\n",
    "geom.drop(columns=['geom_id','Code','lat','long'],inplace=True)\n",
    "geom"
   ]
  },
  {
   "cell_type": "code",
   "execution_count": 22,
   "id": "13fe7339-9fc4-4322-a729-67c60d02e6a1",
   "metadata": {
    "execution": {
     "iopub.execute_input": "2023-01-13T06:49:42.638039Z",
     "iopub.status.busy": "2023-01-13T06:49:42.636914Z",
     "iopub.status.idle": "2023-01-13T06:49:43.229248Z",
     "shell.execute_reply": "2023-01-13T06:49:43.228297Z",
     "shell.execute_reply.started": "2023-01-13T06:49:42.637966Z"
    },
    "tags": []
   },
   "outputs": [
    {
     "data": {
      "text/plain": [
       "<AxesSubplot: >"
      ]
     },
     "execution_count": 22,
     "metadata": {},
     "output_type": "execute_result"
    },
    {
     "data": {
      "image/png": "[encoded data removed]",
      "text/plain": [
       "<Figure size 640x480 with 1 Axes>"
      ]
     },
     "metadata": {},
     "output_type": "display_data"
    }
   ],
   "source": []
  },
  {
   "cell_type": "code",
   "execution_count": 16,
   "id": "2a1b526c-7564-489e-83f7-3cdadd2b4ce0",
   "metadata": {
    "execution": {
     "iopub.execute_input": "2023-01-13T06:42:01.168367Z",
     "iopub.status.busy": "2023-01-13T06:42:01.167281Z",
     "iopub.status.idle": "2023-01-13T06:42:01.249733Z",
     "shell.execute_reply": "2023-01-13T06:42:01.249290Z",
     "shell.execute_reply.started": "2023-01-13T06:42:01.168280Z"
    },
    "tags": []
   },
   "outputs": [],
   "source": [
    "real_estate_no_geom = real_estate_geo[real_estate_geo.geom_id.isna()]\n",
    "real_estate_no_geom.to_excel(\"output.xlsx\")  \n"
   ]
  },
  {
   "cell_type": "code",
   "execution_count": 81,
   "id": "039d272c-48be-466d-bfd8-7d8ac2044792",
   "metadata": {
    "execution": {
     "iopub.execute_input": "2023-01-13T08:18:02.440624Z",
     "iopub.status.busy": "2023-01-13T08:18:02.438897Z",
     "iopub.status.idle": "2023-01-13T08:18:03.357228Z",
     "shell.execute_reply": "2023-01-13T08:18:03.356715Z",
     "shell.execute_reply.started": "2023-01-13T08:18:02.440535Z"
    },
    "tags": []
   },
   "outputs": [],
   "source": [
    "geom.to_postgis('geom',con=engine, if_exists='append', index_label='id', schema='cbs_emlak')"
   ]
  },
  {
   "cell_type": "code",
   "execution_count": 82,
   "id": "9052ef45-ee79-4bf9-876f-6517c30b8752",
   "metadata": {
    "deletable": false,
    "editable": false,
    "execution": {
     "iopub.execute_input": "2023-01-13T08:19:14.233989Z",
     "iopub.status.busy": "2023-01-13T08:19:14.225362Z",
     "iopub.status.idle": "2023-01-13T08:19:16.153475Z",
     "shell.execute_reply": "2023-01-13T08:19:16.152057Z",
     "shell.execute_reply.started": "2023-01-13T08:19:14.231934Z"
    },
    "run_control": {
     "frozen": true
    },
    "tags": []
   },
   "outputs": [
    {
     "data": {
      "text/plain": [
       "818"
      ]
     },
     "execution_count": 82,
     "metadata": {},
     "output_type": "execute_result"
    }
   ],
   "source": [
    "real_estate_geo.to_sql('real_estate',con=engine, if_exists='append', index_label='id')"
   ]
  },
  {
   "cell_type": "code",
   "execution_count": 83,
   "id": "ddf9d99f-dfc4-4c44-b353-7c6898731915",
   "metadata": {
    "ExecuteTime": {
     "end_time": "2023-01-05T18:06:33.974329Z",
     "start_time": "2023-01-05T18:06:33.861874Z"
    },
    "execution": {
     "iopub.execute_input": "2023-01-13T08:19:19.257566Z",
     "iopub.status.busy": "2023-01-13T08:19:19.256490Z",
     "iopub.status.idle": "2023-01-13T08:19:19.391416Z",
     "shell.execute_reply": "2023-01-13T08:19:19.390995Z",
     "shell.execute_reply.started": "2023-01-13T08:19:19.257493Z"
    },
    "tags": []
   },
   "outputs": [
    {
     "data": {
      "text/html": [
       "<div>\n",
       "<style scoped>\n",
       "    .dataframe tbody tr th:only-of-type {\n",
       "        vertical-align: middle;\n",
       "    }\n",
       "\n",
       "    .dataframe tbody tr th {\n",
       "        vertical-align: top;\n",
       "    }\n",
       "\n",
       "    .dataframe thead th {\n",
       "        text-align: right;\n",
       "    }\n",
       "</style>\n",
       "<table border=\"1\" class=\"dataframe\">\n",
       "  <thead>\n",
       "    <tr style=\"text-align: right;\">\n",
       "      <th></th>\n",
       "      <th>ref_code</th>\n",
       "      <th>name</th>\n",
       "      <th>net_area</th>\n",
       "      <th>gross_area</th>\n",
       "      <th>type_spec_id</th>\n",
       "      <th>region_id</th>\n",
       "      <th>real_estate_id</th>\n",
       "      <th>parent_id</th>\n",
       "    </tr>\n",
       "  </thead>\n",
       "  <tbody>\n",
       "    <tr>\n",
       "      <th>1</th>\n",
       "      <td>90000194</td>\n",
       "      <td>KAT: 1</td>\n",
       "      <td>NaN</td>\n",
       "      <td>NaN</td>\n",
       "      <td>3</td>\n",
       "      <td>7</td>\n",
       "      <td>1</td>\n",
       "      <td>&lt;NA&gt;</td>\n",
       "    </tr>\n",
       "    <tr>\n",
       "      <th>2</th>\n",
       "      <td>90000188</td>\n",
       "      <td>YEDEK OFIS</td>\n",
       "      <td>NaN</td>\n",
       "      <td>NaN</td>\n",
       "      <td>4</td>\n",
       "      <td>7</td>\n",
       "      <td>1</td>\n",
       "      <td>1</td>\n",
       "    </tr>\n",
       "    <tr>\n",
       "      <th>3</th>\n",
       "      <td>90000380</td>\n",
       "      <td>YEDEK OFIS</td>\n",
       "      <td>NaN</td>\n",
       "      <td>NaN</td>\n",
       "      <td>4</td>\n",
       "      <td>7</td>\n",
       "      <td>1</td>\n",
       "      <td>1</td>\n",
       "    </tr>\n",
       "    <tr>\n",
       "      <th>4</th>\n",
       "      <td>90000396</td>\n",
       "      <td>YEDEK OFIS</td>\n",
       "      <td>NaN</td>\n",
       "      <td>NaN</td>\n",
       "      <td>4</td>\n",
       "      <td>7</td>\n",
       "      <td>1</td>\n",
       "      <td>1</td>\n",
       "    </tr>\n",
       "    <tr>\n",
       "      <th>5</th>\n",
       "      <td>90000491</td>\n",
       "      <td>KAT: ZEMIN</td>\n",
       "      <td>NaN</td>\n",
       "      <td>NaN</td>\n",
       "      <td>3</td>\n",
       "      <td>7</td>\n",
       "      <td>1</td>\n",
       "      <td>&lt;NA&gt;</td>\n",
       "    </tr>\n",
       "    <tr>\n",
       "      <th>6</th>\n",
       "      <td>90000185</td>\n",
       "      <td>KOMURLUK</td>\n",
       "      <td>NaN</td>\n",
       "      <td>NaN</td>\n",
       "      <td>5</td>\n",
       "      <td>7</td>\n",
       "      <td>1</td>\n",
       "      <td>5</td>\n",
       "    </tr>\n",
       "    <tr>\n",
       "      <th>7</th>\n",
       "      <td>90000376</td>\n",
       "      <td>MAKASCI ODASI</td>\n",
       "      <td>NaN</td>\n",
       "      <td>NaN</td>\n",
       "      <td>6</td>\n",
       "      <td>7</td>\n",
       "      <td>1</td>\n",
       "      <td>5</td>\n",
       "    </tr>\n",
       "    <tr>\n",
       "      <th>8</th>\n",
       "      <td>90000377</td>\n",
       "      <td>KORIDOR</td>\n",
       "      <td>NaN</td>\n",
       "      <td>NaN</td>\n",
       "      <td>7</td>\n",
       "      <td>7</td>\n",
       "      <td>1</td>\n",
       "      <td>5</td>\n",
       "    </tr>\n",
       "    <tr>\n",
       "      <th>9</th>\n",
       "      <td>90000378</td>\n",
       "      <td>MUTFAK</td>\n",
       "      <td>NaN</td>\n",
       "      <td>NaN</td>\n",
       "      <td>8</td>\n",
       "      <td>7</td>\n",
       "      <td>1</td>\n",
       "      <td>5</td>\n",
       "    </tr>\n",
       "    <tr>\n",
       "      <th>10</th>\n",
       "      <td>90000379</td>\n",
       "      <td>KAZAN DAIRESI</td>\n",
       "      <td>NaN</td>\n",
       "      <td>NaN</td>\n",
       "      <td>9</td>\n",
       "      <td>7</td>\n",
       "      <td>1</td>\n",
       "      <td>5</td>\n",
       "    </tr>\n",
       "    <tr>\n",
       "      <th>11</th>\n",
       "      <td>90000381</td>\n",
       "      <td>ORTAK WC</td>\n",
       "      <td>NaN</td>\n",
       "      <td>NaN</td>\n",
       "      <td>10</td>\n",
       "      <td>7</td>\n",
       "      <td>1</td>\n",
       "      <td>5</td>\n",
       "    </tr>\n",
       "    <tr>\n",
       "      <th>12</th>\n",
       "      <td>90000382</td>\n",
       "      <td>ORTAK WC</td>\n",
       "      <td>NaN</td>\n",
       "      <td>NaN</td>\n",
       "      <td>10</td>\n",
       "      <td>7</td>\n",
       "      <td>1</td>\n",
       "      <td>5</td>\n",
       "    </tr>\n",
       "    <tr>\n",
       "      <th>13</th>\n",
       "      <td>90000383</td>\n",
       "      <td>GAR SEFLIGI OFISI</td>\n",
       "      <td>NaN</td>\n",
       "      <td>NaN</td>\n",
       "      <td>4</td>\n",
       "      <td>7</td>\n",
       "      <td>1</td>\n",
       "      <td>5</td>\n",
       "    </tr>\n",
       "    <tr>\n",
       "      <th>14</th>\n",
       "      <td>90000384</td>\n",
       "      <td>HAREKET MEMURLUGU OFISI</td>\n",
       "      <td>NaN</td>\n",
       "      <td>NaN</td>\n",
       "      <td>4</td>\n",
       "      <td>7</td>\n",
       "      <td>1</td>\n",
       "      <td>5</td>\n",
       "    </tr>\n",
       "    <tr>\n",
       "      <th>15</th>\n",
       "      <td>90000402</td>\n",
       "      <td>KAT: ZEMIN</td>\n",
       "      <td>NaN</td>\n",
       "      <td>NaN</td>\n",
       "      <td>3</td>\n",
       "      <td>7</td>\n",
       "      <td>3</td>\n",
       "      <td>&lt;NA&gt;</td>\n",
       "    </tr>\n",
       "    <tr>\n",
       "      <th>16</th>\n",
       "      <td>90000399</td>\n",
       "      <td>ALIMANTASYON</td>\n",
       "      <td>NaN</td>\n",
       "      <td>NaN</td>\n",
       "      <td>12</td>\n",
       "      <td>7</td>\n",
       "      <td>3</td>\n",
       "      <td>15</td>\n",
       "    </tr>\n",
       "    <tr>\n",
       "      <th>17</th>\n",
       "      <td>90000404</td>\n",
       "      <td>KAT: ZEMIN</td>\n",
       "      <td>NaN</td>\n",
       "      <td>NaN</td>\n",
       "      <td>3</td>\n",
       "      <td>7</td>\n",
       "      <td>4</td>\n",
       "      <td>&lt;NA&gt;</td>\n",
       "    </tr>\n",
       "    <tr>\n",
       "      <th>18</th>\n",
       "      <td>90000405</td>\n",
       "      <td>BAY WC</td>\n",
       "      <td>NaN</td>\n",
       "      <td>NaN</td>\n",
       "      <td>10</td>\n",
       "      <td>7</td>\n",
       "      <td>4</td>\n",
       "      <td>17</td>\n",
       "    </tr>\n",
       "    <tr>\n",
       "      <th>19</th>\n",
       "      <td>90000406</td>\n",
       "      <td>BAYAN WC</td>\n",
       "      <td>NaN</td>\n",
       "      <td>NaN</td>\n",
       "      <td>10</td>\n",
       "      <td>7</td>\n",
       "      <td>4</td>\n",
       "      <td>17</td>\n",
       "    </tr>\n",
       "    <tr>\n",
       "      <th>20</th>\n",
       "      <td>90000409</td>\n",
       "      <td>KAT: ZEMIN</td>\n",
       "      <td>NaN</td>\n",
       "      <td>NaN</td>\n",
       "      <td>3</td>\n",
       "      <td>7</td>\n",
       "      <td>6</td>\n",
       "      <td>&lt;NA&gt;</td>\n",
       "    </tr>\n",
       "  </tbody>\n",
       "</table>\n",
       "</div>"
      ],
      "text/plain": [
       "    ref_code                     name  net_area  gross_area  type_spec_id  \\\n",
       "1   90000194                   KAT: 1       NaN         NaN             3   \n",
       "2   90000188               YEDEK OFIS       NaN         NaN             4   \n",
       "3   90000380               YEDEK OFIS       NaN         NaN             4   \n",
       "4   90000396               YEDEK OFIS       NaN         NaN             4   \n",
       "5   90000491               KAT: ZEMIN       NaN         NaN             3   \n",
       "6   90000185                 KOMURLUK       NaN         NaN             5   \n",
       "7   90000376            MAKASCI ODASI       NaN         NaN             6   \n",
       "8   90000377                  KORIDOR       NaN         NaN             7   \n",
       "9   90000378                   MUTFAK       NaN         NaN             8   \n",
       "10  90000379            KAZAN DAIRESI       NaN         NaN             9   \n",
       "11  90000381                 ORTAK WC       NaN         NaN            10   \n",
       "12  90000382                 ORTAK WC       NaN         NaN            10   \n",
       "13  90000383        GAR SEFLIGI OFISI       NaN         NaN             4   \n",
       "14  90000384  HAREKET MEMURLUGU OFISI       NaN         NaN             4   \n",
       "15  90000402               KAT: ZEMIN       NaN         NaN             3   \n",
       "16  90000399             ALIMANTASYON       NaN         NaN            12   \n",
       "17  90000404               KAT: ZEMIN       NaN         NaN             3   \n",
       "18  90000405                   BAY WC       NaN         NaN            10   \n",
       "19  90000406                 BAYAN WC       NaN         NaN            10   \n",
       "20  90000409               KAT: ZEMIN       NaN         NaN             3   \n",
       "\n",
       "    region_id  real_estate_id  parent_id  \n",
       "1           7               1       <NA>  \n",
       "2           7               1          1  \n",
       "3           7               1          1  \n",
       "4           7               1          1  \n",
       "5           7               1       <NA>  \n",
       "6           7               1          5  \n",
       "7           7               1          5  \n",
       "8           7               1          5  \n",
       "9           7               1          5  \n",
       "10          7               1          5  \n",
       "11          7               1          5  \n",
       "12          7               1          5  \n",
       "13          7               1          5  \n",
       "14          7               1          5  \n",
       "15          7               3       <NA>  \n",
       "16          7               3         15  \n",
       "17          7               4       <NA>  \n",
       "18          7               4         17  \n",
       "19          7               4         17  \n",
       "20          7               6       <NA>  "
      ]
     },
     "execution_count": 83,
     "metadata": {},
     "output_type": "execute_result"
    }
   ],
   "source": [
    "#Independent Section\n",
    "\n",
    "real_estate_ref_code = real_estate_full[[\"ref_code\"]].reset_index(names=\"real_estate_id\")\n",
    "real_estate_ref_code = real_estate_ref_code.rename(columns={'ref_code': 'ref_code_real_estate'})\n",
    "\n",
    "independent_section_full = independent_section\\\n",
    "                           .merge(cities, left_on=\"City\", right_on=\"Name\", how=\"left\")\\\n",
    "                           .drop(columns=[\"City\",\"Name\"])\\\n",
    "                           .astype({\"city_id\": 'Int64'})\\\n",
    "                           .merge(typ, left_on=\"Type\", right_on=\"name\", how=\"left\")\\\n",
    "                           .drop(columns=[\"Type\",\"name\"])\\\n",
    "                           .merge(regions, left_on=\"Region\", right_on=\"name\", how=\"left\")\\\n",
    "                           .drop(columns=[\"Region\",\"name\"])\\\n",
    "                           .astype({\"region_id\": 'Int64', \"ParentCode\":'Int64'})\\\n",
    "                           .rename(columns={'Code': 'ref_code', 'LocName':'name', 'Ada':'ada', \n",
    "                                    'Parsel':'parsel', 'TabanAlanı':'net_area', 'ToplamİnşaatAlanı':'gross_area',\n",
    "                                   'index':'region_id', 'Hiyerarşi':'real_estate_code'})\n",
    "\n",
    "independent_section_full[\"real_estate_code\"] = independent_section_full[\"real_estate_code\"].str.slice(start=9, stop=17)\n",
    "\n",
    "\n",
    "independent_section_full = independent_section_full\\\n",
    "                           .astype({\"real_estate_code\": 'Int64'})\\\n",
    "                           .merge(real_estate_ref_code, left_on=\"real_estate_code\", right_on=\"ref_code_real_estate\", how=\"left\")\\\n",
    "                           .drop(columns=[\"ref_code_real_estate\"])\n",
    "\n",
    "\n",
    "independent_section_full.index += 1\n",
    "independent_section_full.reset_index(inplace=True, names='parent_id')\n",
    "\n",
    "\n",
    "independent_section_full = independent_section_full\\\n",
    "                           .merge(independent_section_full[[\"parent_id\",\"ref_code\"]], left_on=\"ParentCode\", right_on=\"ref_code\", how=\"left\")\\\n",
    "                           .drop(columns=[\"city_id\",\"parent_id_x\", \"ParentCode\",\"real_estate_code\",\"FID\",\"ref_code_y\",\"ada\",\"parsel\"])\\\n",
    "                           .rename(columns={'ref_code_x': 'ref_code', 'parent_id_y':'parent_id'})\\\n",
    "                           .astype({\"parent_id\": 'Int64'})\\\n",
    "\n",
    "independent_section_full.index += 1\n",
    "\n",
    "\n",
    "independent_section_full.head(20)"
   ]
  },
  {
   "cell_type": "code",
   "execution_count": 84,
   "id": "12661e3a-7df7-43b2-9b9b-20a47c46ee8b",
   "metadata": {
    "deletable": false,
    "editable": false,
    "execution": {
     "iopub.execute_input": "2023-01-13T08:19:22.791067Z",
     "iopub.status.busy": "2023-01-13T08:19:22.790526Z",
     "iopub.status.idle": "2023-01-13T08:19:28.405254Z",
     "shell.execute_reply": "2023-01-13T08:19:28.403898Z",
     "shell.execute_reply.started": "2023-01-13T08:19:22.791035Z"
    },
    "run_control": {
     "frozen": true
    },
    "tags": []
   },
   "outputs": [
    {
     "data": {
      "text/plain": [
       "168"
      ]
     },
     "execution_count": 84,
     "metadata": {},
     "output_type": "execute_result"
    }
   ],
   "source": [
    "independent_section_full.to_sql('independent_section',con=engine, if_exists='append', index_label='id')"
   ]
  },
  {
   "cell_type": "code",
   "execution_count": null,
   "id": "f8524f88-cc02-4c0b-9431-da232bf625f7",
   "metadata": {},
   "outputs": [],
   "source": []
  },
  {
   "cell_type": "code",
   "execution_count": null,
   "id": "725bd20f-ca6f-449a-a1c3-1764dc061e45",
   "metadata": {},
   "outputs": [],
   "source": []
  },
  {
   "cell_type": "code",
   "execution_count": 41,
   "id": "67a24f4c-1f51-4a91-aa8d-676b234f171d",
   "metadata": {
    "execution": {
     "iopub.execute_input": "2023-01-13T07:46:45.511038Z",
     "iopub.status.busy": "2023-01-13T07:46:45.510525Z",
     "iopub.status.idle": "2023-01-13T07:46:45.627945Z",
     "shell.execute_reply": "2023-01-13T07:46:45.627529Z",
     "shell.execute_reply.started": "2023-01-13T07:46:45.511006Z"
    },
    "tags": []
   },
   "outputs": [
    {
     "data": {
      "text/plain": [
       "geom              geometry\n",
       "lat                float64\n",
       "long               float64\n",
       "point_geometry    geometry\n",
       "dtype: object"
      ]
     },
     "execution_count": 41,
     "metadata": {},
     "output_type": "execute_result"
    }
   ],
   "source": [
    "new_geom = geom[['geom','lat','long']]\n",
    "new_geom\n",
    "\n",
    "new_geom['point_geometry'] = gp.points_from_xy(new_geom.long, new_geom.lat)\n",
    "new_geom.dtypes"
   ]
  },
  {
   "cell_type": "code",
   "execution_count": null,
   "id": "23a2b982-9fb4-4b5b-a9df-78ede48ee6b1",
   "metadata": {},
   "outputs": [],
   "source": []
  }
 ],
 "metadata": {
  "kernelspec": {
   "display_name": "Python 3 (ipykernel)",
   "language": "python",
   "name": "python3"
  },
  "language_info": {
   "codemirror_mode": {
    "name": "ipython",
    "version": 3
   },
   "file_extension": ".py",
   "mimetype": "text/x-python",
   "name": "python",
   "nbconvert_exporter": "python",
   "pygments_lexer": "ipython3",
   "version": "3.9.15"
  },
  "varInspector": {
   "cols": {
    "lenName": 16,
    "lenType": 16,
    "lenVar": 40
   },
   "kernels_config": {
    "python": {
     "delete_cmd_postfix": "",
     "delete_cmd_prefix": "del ",
     "library": "var_list.py",
     "varRefreshCmd": "print(var_dic_list())"
    },
    "r": {
     "delete_cmd_postfix": ") ",
     "delete_cmd_prefix": "rm(",
     "library": "var_list.r",
     "varRefreshCmd": "cat(var_dic_list()) "
    }
   },
   "types_to_exclude": [
    "module",
    "function",
    "builtin_function_or_method",
    "instance",
    "_Feature"
   ],
   "window_display": false
  }
 },
 "nbformat": 4,
 "nbformat_minor": 5
}
